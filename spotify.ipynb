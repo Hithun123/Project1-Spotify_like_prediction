{
  "nbformat": 4,
  "nbformat_minor": 0,
  "metadata": {
    "colab": {
      "provenance": []
    },
    "kernelspec": {
      "name": "python3",
      "display_name": "Python 3"
    },
    "language_info": {
      "name": "python"
    }
  },
  "cells": [
    {
      "cell_type": "markdown",
      "source": [
        "# **SPOTIFY-LIKE PREDICTION MODEL**"
      ],
      "metadata": {
        "id": "NrXSmB_Lexh1"
      }
    },
    {
      "cell_type": "markdown",
      "source": [
        " **OBJECTIVE OF THE STUDY**       \n",
        "1.Classification using different Machine Learning Algorithms                                                                   \n",
        "2.Comparing the performance of Classification techniques based on Accuracy\n"
      ],
      "metadata": {
        "id": "GuXSUMB1xIzq"
      }
    },
    {
      "cell_type": "markdown",
      "source": [
        "**ABOUT THE DATASET**  \n",
        "This dataset includes a wide range of attributes relating to songs that have been liked and disliked on Spotify.     \n",
        "\n",
        "1.**danceability**: value in range of 0.0 which is least danceable to 1.0 which is most danceable.  \n",
        "\n",
        "2.**energy**: It measure from 0.0 to 1.0 and represents a perceptual measure of intensity and activity.\n",
        "\n",
        "3.**key**: The key the track is in. Integers map to pitches using standard Pitch Class notation.  \n",
        "\n",
        "4.**loudness**: The overall loudness of a track in decibels(dB).Values typical range between -60 dB and 0 dB.  \n",
        "\n",
        "5.**mode**: It indicates the modality (major or minor) of a track. Major is represented by 1 and minor is 0.    \n",
        "\n",
        "6.**speechiness**: Speechiness detects the presence of spoken words in a track. The value near 1.0 indicates talks-show, poetry and audi book. Value above 0.66 indicates tracks made entirely of spoken words.Values between 0.33 and 0.66 describe tracks that may contain both music and speech. Values below 0.33 most likely represent non-speech-like tracks.  \n",
        "\n",
        "7.**acousticness**: A confidence measure from 0.0 to 1.0 of whether the track is acoustic. 1.0 represents high confidence the track is acoustic.  \n",
        "\n",
        "8.**instrumentalness**: Predicts whether a track contains no vocals.“Ooh” and “aah” sounds are treated as instrumental in this context. Rap or spoken word tracks are clearly “vocal”. The closer the instrumentalness value is to 1.0, the greater likelihood the track contains no vocal content. Values above 0.5 are intended to represent instrumental tracks, but confidence is higher as the value approaches 1.0.  \n",
        "\n",
        "9.**liveness**: Detects the presence of an audience in the recording. Higher liveness values represent an increased probability that the track was performed live. A value above 0.8 provides strong likelihood that the track is live.  \n",
        "\n",
        "10.**valence**: A measure from 0.0 to 1.0 describing the musical positiveness conveyed by a track. Tracks with high valence sound more positive (e.g. happy, cheerful, euphoric), while tracks with low valence sound more negative (e.g. sad, depressed, angry).\n",
        "\n",
        "11.**tempo**: The overall estimated tempo of a track in beats per minute (BPM).   \n",
        "\n",
        "12.**duration_ms**:The duration of the track in milliseconds.  \n",
        "\n",
        "13.**time_signature**: The time signature is a notational convention to specify how many beats are in each bar.  \n",
        "\n",
        "14.**liked**: 1 for liked songs , 0 for disliked songs\n"
      ],
      "metadata": {
        "id": "67DqOgxmyhm-"
      }
    },
    {
      "cell_type": "markdown",
      "source": [
        "**IMPORT LIBRARIES**"
      ],
      "metadata": {
        "id": "Zla7MBmjpeN0"
      }
    },
    {
      "cell_type": "code",
      "execution_count": 1,
      "metadata": {
        "id": "EjowuXmlJGAO",
        "colab": {
          "base_uri": "https://localhost:8080/"
        },
        "outputId": "4554c384-497a-4c89-d9d2-2527236e8b52"
      },
      "outputs": [
        {
          "output_type": "stream",
          "name": "stdout",
          "text": [
            "Collecting skfeature-chappers\n",
            "  Downloading skfeature_chappers-1.1.0-py3-none-any.whl (66 kB)\n",
            "\u001b[?25l     \u001b[90m━━━━━━━━━━━━━━━━━━━━━━━━━━━━━━━━━━━━━━━━\u001b[0m \u001b[32m0.0/66.3 kB\u001b[0m \u001b[31m?\u001b[0m eta \u001b[36m-:--:--\u001b[0m\r\u001b[2K     \u001b[90m━━━━━━━━━━━━━━━━━━━━━━━━━━━━━━━━━━━━━━━━\u001b[0m \u001b[32m66.3/66.3 kB\u001b[0m \u001b[31m2.0 MB/s\u001b[0m eta \u001b[36m0:00:00\u001b[0m\n",
            "\u001b[?25hRequirement already satisfied: scikit-learn in /usr/local/lib/python3.10/dist-packages (from skfeature-chappers) (1.2.2)\n",
            "Requirement already satisfied: pandas in /usr/local/lib/python3.10/dist-packages (from skfeature-chappers) (1.5.3)\n",
            "Requirement already satisfied: numpy in /usr/local/lib/python3.10/dist-packages (from skfeature-chappers) (1.22.4)\n",
            "Requirement already satisfied: python-dateutil>=2.8.1 in /usr/local/lib/python3.10/dist-packages (from pandas->skfeature-chappers) (2.8.2)\n",
            "Requirement already satisfied: pytz>=2020.1 in /usr/local/lib/python3.10/dist-packages (from pandas->skfeature-chappers) (2022.7.1)\n",
            "Requirement already satisfied: scipy>=1.3.2 in /usr/local/lib/python3.10/dist-packages (from scikit-learn->skfeature-chappers) (1.10.1)\n",
            "Requirement already satisfied: joblib>=1.1.1 in /usr/local/lib/python3.10/dist-packages (from scikit-learn->skfeature-chappers) (1.3.1)\n",
            "Requirement already satisfied: threadpoolctl>=2.0.0 in /usr/local/lib/python3.10/dist-packages (from scikit-learn->skfeature-chappers) (3.2.0)\n",
            "Requirement already satisfied: six>=1.5 in /usr/local/lib/python3.10/dist-packages (from python-dateutil>=2.8.1->pandas->skfeature-chappers) (1.16.0)\n",
            "Installing collected packages: skfeature-chappers\n",
            "Successfully installed skfeature-chappers-1.1.0\n"
          ]
        }
      ],
      "source": [
        "import pandas as pd\n",
        "import warnings\n",
        "warnings.filterwarnings('ignore')\n",
        "import seaborn as sns\n",
        "import matplotlib.pyplot as plt\n",
        "import numpy as np\n",
        "from imblearn.over_sampling import SMOTE\n",
        "from sklearn.preprocessing import MinMaxScaler\n",
        "from sklearn.model_selection import train_test_split,GridSearchCV\n",
        "from sklearn.neighbors import KNeighborsClassifier\n",
        "from sklearn.svm import SVC\n",
        "from sklearn.naive_bayes import GaussianNB\n",
        "from sklearn.tree import DecisionTreeClassifier\n",
        "from sklearn.ensemble import RandomForestClassifier,AdaBoostClassifier\n",
        "from sklearn.metrics import classification_report,ConfusionMatrixDisplay\n",
        "from sklearn.decomposition import PCA\n",
        "from sklearn.feature_selection import SelectKBest,chi2\n",
        "from xgboost import XGBClassifier\n",
        "!pip install skfeature-chappers\n",
        "from skfeature.function.similarity_based import fisher_score\n",
        "\n"
      ]
    },
    {
      "cell_type": "code",
      "source": [
        "from google.colab import drive\n",
        "drive.mount('/content/drive')"
      ],
      "metadata": {
        "id": "jvbGjz3M5T-i",
        "colab": {
          "base_uri": "https://localhost:8080/"
        },
        "outputId": "033b0691-885c-43f3-d4bc-4a442c3f111f"
      },
      "execution_count": 2,
      "outputs": [
        {
          "output_type": "stream",
          "name": "stdout",
          "text": [
            "Drive already mounted at /content/drive; to attempt to forcibly remount, call drive.mount(\"/content/drive\", force_remount=True).\n"
          ]
        }
      ]
    },
    {
      "cell_type": "markdown",
      "source": [
        "**IMPORT DATASET**"
      ],
      "metadata": {
        "id": "D6OinyCosCJ1"
      }
    },
    {
      "cell_type": "code",
      "source": [
        "df=pd.read_csv('/content/drive/MyDrive/ML project/sportify.csv')\n",
        "df"
      ],
      "metadata": {
        "id": "gH-8In-NLlCp",
        "colab": {
          "base_uri": "https://localhost:8080/",
          "height": 487
        },
        "outputId": "236d47ff-ca7f-478e-8515-ad5a789693fe"
      },
      "execution_count": 3,
      "outputs": [
        {
          "output_type": "execute_result",
          "data": {
            "text/plain": [
              "     danceability  energy  key  loudness  mode  speechiness  acousticness  \\\n",
              "0           0.803  0.6240    7    -6.764     0       0.0477        0.4510   \n",
              "1           0.762  0.7030   10    -7.951     0       0.3060        0.2060   \n",
              "2           0.261  0.0149    1   -27.528     1       0.0419        0.9920   \n",
              "3           0.722  0.7360    3    -6.994     0       0.0585        0.4310   \n",
              "4           0.787  0.5720    1    -7.516     1       0.2220        0.1450   \n",
              "..            ...     ...  ...       ...   ...          ...           ...   \n",
              "190         0.166  0.0551    9   -19.494     0       0.0520        0.9760   \n",
              "191         0.862  0.6240    3   -11.630     1          NaN        0.0192   \n",
              "192         0.499  0.3510    9   -11.509     0       0.0448        0.9510   \n",
              "193         0.574  0.7290   10    -5.838     0       0.0965        0.0406   \n",
              "194         0.747  0.6660   11    -7.845     1       0.1970        0.1300   \n",
              "\n",
              "     instrumentalness  liveness  valence    tempo  duration_ms  \\\n",
              "0            0.000734    0.1000    0.628   95.968       304524   \n",
              "1            0.000000    0.0912    0.519  151.329       247178   \n",
              "2            0.897000    0.1020      NaN   75.296       286987   \n",
              "3            0.000001    0.1230    0.582   89.860       208920   \n",
              "4            0.000000    0.0753    0.647  155.117       179413   \n",
              "..                ...       ...      ...      ...          ...   \n",
              "190          0.635000    0.1190    0.124  176.616       206520   \n",
              "191          0.000153    0.0465    0.124  124.896       254240   \n",
              "192          0.000099    0.1180    0.124   90.664       235947   \n",
              "193          0.000004    0.1940      NaN  110.547       190239   \n",
              "194          0.000000    0.3600    0.124   77.507       177213   \n",
              "\n",
              "     time_signature  liked  \n",
              "0                 4      0  \n",
              "1                 4      1  \n",
              "2                 4      0  \n",
              "3                 4      1  \n",
              "4                 4      1  \n",
              "..              ...    ...  \n",
              "190               3      0  \n",
              "191               4      0  \n",
              "192               4      0  \n",
              "193               5      1  \n",
              "194               4      1  \n",
              "\n",
              "[195 rows x 14 columns]"
            ],
            "text/html": [
              "\n",
              "\n",
              "  <div id=\"df-a428c8ed-c520-4fb6-840e-55f76358f756\">\n",
              "    <div class=\"colab-df-container\">\n",
              "      <div>\n",
              "<style scoped>\n",
              "    .dataframe tbody tr th:only-of-type {\n",
              "        vertical-align: middle;\n",
              "    }\n",
              "\n",
              "    .dataframe tbody tr th {\n",
              "        vertical-align: top;\n",
              "    }\n",
              "\n",
              "    .dataframe thead th {\n",
              "        text-align: right;\n",
              "    }\n",
              "</style>\n",
              "<table border=\"1\" class=\"dataframe\">\n",
              "  <thead>\n",
              "    <tr style=\"text-align: right;\">\n",
              "      <th></th>\n",
              "      <th>danceability</th>\n",
              "      <th>energy</th>\n",
              "      <th>key</th>\n",
              "      <th>loudness</th>\n",
              "      <th>mode</th>\n",
              "      <th>speechiness</th>\n",
              "      <th>acousticness</th>\n",
              "      <th>instrumentalness</th>\n",
              "      <th>liveness</th>\n",
              "      <th>valence</th>\n",
              "      <th>tempo</th>\n",
              "      <th>duration_ms</th>\n",
              "      <th>time_signature</th>\n",
              "      <th>liked</th>\n",
              "    </tr>\n",
              "  </thead>\n",
              "  <tbody>\n",
              "    <tr>\n",
              "      <th>0</th>\n",
              "      <td>0.803</td>\n",
              "      <td>0.6240</td>\n",
              "      <td>7</td>\n",
              "      <td>-6.764</td>\n",
              "      <td>0</td>\n",
              "      <td>0.0477</td>\n",
              "      <td>0.4510</td>\n",
              "      <td>0.000734</td>\n",
              "      <td>0.1000</td>\n",
              "      <td>0.628</td>\n",
              "      <td>95.968</td>\n",
              "      <td>304524</td>\n",
              "      <td>4</td>\n",
              "      <td>0</td>\n",
              "    </tr>\n",
              "    <tr>\n",
              "      <th>1</th>\n",
              "      <td>0.762</td>\n",
              "      <td>0.7030</td>\n",
              "      <td>10</td>\n",
              "      <td>-7.951</td>\n",
              "      <td>0</td>\n",
              "      <td>0.3060</td>\n",
              "      <td>0.2060</td>\n",
              "      <td>0.000000</td>\n",
              "      <td>0.0912</td>\n",
              "      <td>0.519</td>\n",
              "      <td>151.329</td>\n",
              "      <td>247178</td>\n",
              "      <td>4</td>\n",
              "      <td>1</td>\n",
              "    </tr>\n",
              "    <tr>\n",
              "      <th>2</th>\n",
              "      <td>0.261</td>\n",
              "      <td>0.0149</td>\n",
              "      <td>1</td>\n",
              "      <td>-27.528</td>\n",
              "      <td>1</td>\n",
              "      <td>0.0419</td>\n",
              "      <td>0.9920</td>\n",
              "      <td>0.897000</td>\n",
              "      <td>0.1020</td>\n",
              "      <td>NaN</td>\n",
              "      <td>75.296</td>\n",
              "      <td>286987</td>\n",
              "      <td>4</td>\n",
              "      <td>0</td>\n",
              "    </tr>\n",
              "    <tr>\n",
              "      <th>3</th>\n",
              "      <td>0.722</td>\n",
              "      <td>0.7360</td>\n",
              "      <td>3</td>\n",
              "      <td>-6.994</td>\n",
              "      <td>0</td>\n",
              "      <td>0.0585</td>\n",
              "      <td>0.4310</td>\n",
              "      <td>0.000001</td>\n",
              "      <td>0.1230</td>\n",
              "      <td>0.582</td>\n",
              "      <td>89.860</td>\n",
              "      <td>208920</td>\n",
              "      <td>4</td>\n",
              "      <td>1</td>\n",
              "    </tr>\n",
              "    <tr>\n",
              "      <th>4</th>\n",
              "      <td>0.787</td>\n",
              "      <td>0.5720</td>\n",
              "      <td>1</td>\n",
              "      <td>-7.516</td>\n",
              "      <td>1</td>\n",
              "      <td>0.2220</td>\n",
              "      <td>0.1450</td>\n",
              "      <td>0.000000</td>\n",
              "      <td>0.0753</td>\n",
              "      <td>0.647</td>\n",
              "      <td>155.117</td>\n",
              "      <td>179413</td>\n",
              "      <td>4</td>\n",
              "      <td>1</td>\n",
              "    </tr>\n",
              "    <tr>\n",
              "      <th>...</th>\n",
              "      <td>...</td>\n",
              "      <td>...</td>\n",
              "      <td>...</td>\n",
              "      <td>...</td>\n",
              "      <td>...</td>\n",
              "      <td>...</td>\n",
              "      <td>...</td>\n",
              "      <td>...</td>\n",
              "      <td>...</td>\n",
              "      <td>...</td>\n",
              "      <td>...</td>\n",
              "      <td>...</td>\n",
              "      <td>...</td>\n",
              "      <td>...</td>\n",
              "    </tr>\n",
              "    <tr>\n",
              "      <th>190</th>\n",
              "      <td>0.166</td>\n",
              "      <td>0.0551</td>\n",
              "      <td>9</td>\n",
              "      <td>-19.494</td>\n",
              "      <td>0</td>\n",
              "      <td>0.0520</td>\n",
              "      <td>0.9760</td>\n",
              "      <td>0.635000</td>\n",
              "      <td>0.1190</td>\n",
              "      <td>0.124</td>\n",
              "      <td>176.616</td>\n",
              "      <td>206520</td>\n",
              "      <td>3</td>\n",
              "      <td>0</td>\n",
              "    </tr>\n",
              "    <tr>\n",
              "      <th>191</th>\n",
              "      <td>0.862</td>\n",
              "      <td>0.6240</td>\n",
              "      <td>3</td>\n",
              "      <td>-11.630</td>\n",
              "      <td>1</td>\n",
              "      <td>NaN</td>\n",
              "      <td>0.0192</td>\n",
              "      <td>0.000153</td>\n",
              "      <td>0.0465</td>\n",
              "      <td>0.124</td>\n",
              "      <td>124.896</td>\n",
              "      <td>254240</td>\n",
              "      <td>4</td>\n",
              "      <td>0</td>\n",
              "    </tr>\n",
              "    <tr>\n",
              "      <th>192</th>\n",
              "      <td>0.499</td>\n",
              "      <td>0.3510</td>\n",
              "      <td>9</td>\n",
              "      <td>-11.509</td>\n",
              "      <td>0</td>\n",
              "      <td>0.0448</td>\n",
              "      <td>0.9510</td>\n",
              "      <td>0.000099</td>\n",
              "      <td>0.1180</td>\n",
              "      <td>0.124</td>\n",
              "      <td>90.664</td>\n",
              "      <td>235947</td>\n",
              "      <td>4</td>\n",
              "      <td>0</td>\n",
              "    </tr>\n",
              "    <tr>\n",
              "      <th>193</th>\n",
              "      <td>0.574</td>\n",
              "      <td>0.7290</td>\n",
              "      <td>10</td>\n",
              "      <td>-5.838</td>\n",
              "      <td>0</td>\n",
              "      <td>0.0965</td>\n",
              "      <td>0.0406</td>\n",
              "      <td>0.000004</td>\n",
              "      <td>0.1940</td>\n",
              "      <td>NaN</td>\n",
              "      <td>110.547</td>\n",
              "      <td>190239</td>\n",
              "      <td>5</td>\n",
              "      <td>1</td>\n",
              "    </tr>\n",
              "    <tr>\n",
              "      <th>194</th>\n",
              "      <td>0.747</td>\n",
              "      <td>0.6660</td>\n",
              "      <td>11</td>\n",
              "      <td>-7.845</td>\n",
              "      <td>1</td>\n",
              "      <td>0.1970</td>\n",
              "      <td>0.1300</td>\n",
              "      <td>0.000000</td>\n",
              "      <td>0.3600</td>\n",
              "      <td>0.124</td>\n",
              "      <td>77.507</td>\n",
              "      <td>177213</td>\n",
              "      <td>4</td>\n",
              "      <td>1</td>\n",
              "    </tr>\n",
              "  </tbody>\n",
              "</table>\n",
              "<p>195 rows × 14 columns</p>\n",
              "</div>\n",
              "      <button class=\"colab-df-convert\" onclick=\"convertToInteractive('df-a428c8ed-c520-4fb6-840e-55f76358f756')\"\n",
              "              title=\"Convert this dataframe to an interactive table.\"\n",
              "              style=\"display:none;\">\n",
              "\n",
              "  <svg xmlns=\"http://www.w3.org/2000/svg\" height=\"24px\"viewBox=\"0 0 24 24\"\n",
              "       width=\"24px\">\n",
              "    <path d=\"M0 0h24v24H0V0z\" fill=\"none\"/>\n",
              "    <path d=\"M18.56 5.44l.94 2.06.94-2.06 2.06-.94-2.06-.94-.94-2.06-.94 2.06-2.06.94zm-11 1L8.5 8.5l.94-2.06 2.06-.94-2.06-.94L8.5 2.5l-.94 2.06-2.06.94zm10 10l.94 2.06.94-2.06 2.06-.94-2.06-.94-.94-2.06-.94 2.06-2.06.94z\"/><path d=\"M17.41 7.96l-1.37-1.37c-.4-.4-.92-.59-1.43-.59-.52 0-1.04.2-1.43.59L10.3 9.45l-7.72 7.72c-.78.78-.78 2.05 0 2.83L4 21.41c.39.39.9.59 1.41.59.51 0 1.02-.2 1.41-.59l7.78-7.78 2.81-2.81c.8-.78.8-2.07 0-2.86zM5.41 20L4 18.59l7.72-7.72 1.47 1.35L5.41 20z\"/>\n",
              "  </svg>\n",
              "      </button>\n",
              "\n",
              "\n",
              "\n",
              "    <div id=\"df-066b6cbe-49df-48e5-9174-db483e785b32\">\n",
              "      <button class=\"colab-df-quickchart\" onclick=\"quickchart('df-066b6cbe-49df-48e5-9174-db483e785b32')\"\n",
              "              title=\"Suggest charts.\"\n",
              "              style=\"display:none;\">\n",
              "\n",
              "<svg xmlns=\"http://www.w3.org/2000/svg\" height=\"24px\"viewBox=\"0 0 24 24\"\n",
              "     width=\"24px\">\n",
              "    <g>\n",
              "        <path d=\"M19 3H5c-1.1 0-2 .9-2 2v14c0 1.1.9 2 2 2h14c1.1 0 2-.9 2-2V5c0-1.1-.9-2-2-2zM9 17H7v-7h2v7zm4 0h-2V7h2v10zm4 0h-2v-4h2v4z\"/>\n",
              "    </g>\n",
              "</svg>\n",
              "      </button>\n",
              "    </div>\n",
              "\n",
              "<style>\n",
              "  .colab-df-quickchart {\n",
              "    background-color: #E8F0FE;\n",
              "    border: none;\n",
              "    border-radius: 50%;\n",
              "    cursor: pointer;\n",
              "    display: none;\n",
              "    fill: #1967D2;\n",
              "    height: 32px;\n",
              "    padding: 0 0 0 0;\n",
              "    width: 32px;\n",
              "  }\n",
              "\n",
              "  .colab-df-quickchart:hover {\n",
              "    background-color: #E2EBFA;\n",
              "    box-shadow: 0px 1px 2px rgba(60, 64, 67, 0.3), 0px 1px 3px 1px rgba(60, 64, 67, 0.15);\n",
              "    fill: #174EA6;\n",
              "  }\n",
              "\n",
              "  [theme=dark] .colab-df-quickchart {\n",
              "    background-color: #3B4455;\n",
              "    fill: #D2E3FC;\n",
              "  }\n",
              "\n",
              "  [theme=dark] .colab-df-quickchart:hover {\n",
              "    background-color: #434B5C;\n",
              "    box-shadow: 0px 1px 3px 1px rgba(0, 0, 0, 0.15);\n",
              "    filter: drop-shadow(0px 1px 2px rgba(0, 0, 0, 0.3));\n",
              "    fill: #FFFFFF;\n",
              "  }\n",
              "</style>\n",
              "\n",
              "    <script>\n",
              "      async function quickchart(key) {\n",
              "        const containerElement = document.querySelector('#' + key);\n",
              "        const charts = await google.colab.kernel.invokeFunction(\n",
              "            'suggestCharts', [key], {});\n",
              "      }\n",
              "    </script>\n",
              "\n",
              "      <script>\n",
              "\n",
              "function displayQuickchartButton(domScope) {\n",
              "  let quickchartButtonEl =\n",
              "    domScope.querySelector('#df-066b6cbe-49df-48e5-9174-db483e785b32 button.colab-df-quickchart');\n",
              "  quickchartButtonEl.style.display =\n",
              "    google.colab.kernel.accessAllowed ? 'block' : 'none';\n",
              "}\n",
              "\n",
              "        displayQuickchartButton(document);\n",
              "      </script>\n",
              "      <style>\n",
              "    .colab-df-container {\n",
              "      display:flex;\n",
              "      flex-wrap:wrap;\n",
              "      gap: 12px;\n",
              "    }\n",
              "\n",
              "    .colab-df-convert {\n",
              "      background-color: #E8F0FE;\n",
              "      border: none;\n",
              "      border-radius: 50%;\n",
              "      cursor: pointer;\n",
              "      display: none;\n",
              "      fill: #1967D2;\n",
              "      height: 32px;\n",
              "      padding: 0 0 0 0;\n",
              "      width: 32px;\n",
              "    }\n",
              "\n",
              "    .colab-df-convert:hover {\n",
              "      background-color: #E2EBFA;\n",
              "      box-shadow: 0px 1px 2px rgba(60, 64, 67, 0.3), 0px 1px 3px 1px rgba(60, 64, 67, 0.15);\n",
              "      fill: #174EA6;\n",
              "    }\n",
              "\n",
              "    [theme=dark] .colab-df-convert {\n",
              "      background-color: #3B4455;\n",
              "      fill: #D2E3FC;\n",
              "    }\n",
              "\n",
              "    [theme=dark] .colab-df-convert:hover {\n",
              "      background-color: #434B5C;\n",
              "      box-shadow: 0px 1px 3px 1px rgba(0, 0, 0, 0.15);\n",
              "      filter: drop-shadow(0px 1px 2px rgba(0, 0, 0, 0.3));\n",
              "      fill: #FFFFFF;\n",
              "    }\n",
              "  </style>\n",
              "\n",
              "      <script>\n",
              "        const buttonEl =\n",
              "          document.querySelector('#df-a428c8ed-c520-4fb6-840e-55f76358f756 button.colab-df-convert');\n",
              "        buttonEl.style.display =\n",
              "          google.colab.kernel.accessAllowed ? 'block' : 'none';\n",
              "\n",
              "        async function convertToInteractive(key) {\n",
              "          const element = document.querySelector('#df-a428c8ed-c520-4fb6-840e-55f76358f756');\n",
              "          const dataTable =\n",
              "            await google.colab.kernel.invokeFunction('convertToInteractive',\n",
              "                                                     [key], {});\n",
              "          if (!dataTable) return;\n",
              "\n",
              "          const docLinkHtml = 'Like what you see? Visit the ' +\n",
              "            '<a target=\"_blank\" href=https://colab.research.google.com/notebooks/data_table.ipynb>data table notebook</a>'\n",
              "            + ' to learn more about interactive tables.';\n",
              "          element.innerHTML = '';\n",
              "          dataTable['output_type'] = 'display_data';\n",
              "          await google.colab.output.renderOutput(dataTable, element);\n",
              "          const docLink = document.createElement('div');\n",
              "          docLink.innerHTML = docLinkHtml;\n",
              "          element.appendChild(docLink);\n",
              "        }\n",
              "      </script>\n",
              "    </div>\n",
              "  </div>\n"
            ]
          },
          "metadata": {},
          "execution_count": 3
        }
      ]
    },
    {
      "cell_type": "markdown",
      "source": [
        "**DATA PREPROCESSING**"
      ],
      "metadata": {
        "id": "GUvIw3ZQsQq8"
      }
    },
    {
      "cell_type": "code",
      "source": [
        "#Checking for missing values\n",
        "df.isna().sum()"
      ],
      "metadata": {
        "id": "C5A8ZtNlMJxJ",
        "colab": {
          "base_uri": "https://localhost:8080/"
        },
        "outputId": "e51b692c-6e47-4fd4-9da2-da438e7b0a69"
      },
      "execution_count": 4,
      "outputs": [
        {
          "output_type": "execute_result",
          "data": {
            "text/plain": [
              "danceability         0\n",
              "energy               0\n",
              "key                  0\n",
              "loudness             0\n",
              "mode                 0\n",
              "speechiness          5\n",
              "acousticness         0\n",
              "instrumentalness     0\n",
              "liveness             0\n",
              "valence             13\n",
              "tempo                0\n",
              "duration_ms          0\n",
              "time_signature       0\n",
              "liked                0\n",
              "dtype: int64"
            ]
          },
          "metadata": {},
          "execution_count": 4
        }
      ]
    },
    {
      "cell_type": "code",
      "source": [
        "df.dtypes"
      ],
      "metadata": {
        "id": "ar5wKoNmMb_U",
        "colab": {
          "base_uri": "https://localhost:8080/"
        },
        "outputId": "22cb9f4a-3577-43e4-a3b6-09c95c4cf52b"
      },
      "execution_count": 5,
      "outputs": [
        {
          "output_type": "execute_result",
          "data": {
            "text/plain": [
              "danceability        float64\n",
              "energy              float64\n",
              "key                   int64\n",
              "loudness            float64\n",
              "mode                  int64\n",
              "speechiness         float64\n",
              "acousticness        float64\n",
              "instrumentalness    float64\n",
              "liveness            float64\n",
              "valence             float64\n",
              "tempo               float64\n",
              "duration_ms           int64\n",
              "time_signature        int64\n",
              "liked                 int64\n",
              "dtype: object"
            ]
          },
          "metadata": {},
          "execution_count": 5
        }
      ]
    },
    {
      "cell_type": "markdown",
      "source": [
        "**MISSING VALUE HANDLING**"
      ],
      "metadata": {
        "id": "JI4nsBh7uRU5"
      }
    },
    {
      "cell_type": "code",
      "source": [
        "df['speechiness']=df['speechiness'].fillna(df['speechiness'].mean())\n",
        "df['valence']=df['valence'].fillna(df['valence'].mean())"
      ],
      "metadata": {
        "id": "s2Imcx0kMoLc"
      },
      "execution_count": 6,
      "outputs": []
    },
    {
      "cell_type": "code",
      "source": [
        "df.isna().sum()"
      ],
      "metadata": {
        "id": "RbwvUzOdNUb7",
        "colab": {
          "base_uri": "https://localhost:8080/"
        },
        "outputId": "e96823da-bf85-4f5b-fb06-64c9bf51dba1"
      },
      "execution_count": 7,
      "outputs": [
        {
          "output_type": "execute_result",
          "data": {
            "text/plain": [
              "danceability        0\n",
              "energy              0\n",
              "key                 0\n",
              "loudness            0\n",
              "mode                0\n",
              "speechiness         0\n",
              "acousticness        0\n",
              "instrumentalness    0\n",
              "liveness            0\n",
              "valence             0\n",
              "tempo               0\n",
              "duration_ms         0\n",
              "time_signature      0\n",
              "liked               0\n",
              "dtype: int64"
            ]
          },
          "metadata": {},
          "execution_count": 7
        }
      ]
    },
    {
      "cell_type": "code",
      "source": [
        "df.columns"
      ],
      "metadata": {
        "colab": {
          "base_uri": "https://localhost:8080/"
        },
        "id": "UPxJcKsNiTPC",
        "outputId": "f6339590-f357-45d3-a395-615eab36feb5"
      },
      "execution_count": 8,
      "outputs": [
        {
          "output_type": "execute_result",
          "data": {
            "text/plain": [
              "Index(['danceability', 'energy', 'key', 'loudness', 'mode', 'speechiness',\n",
              "       'acousticness', 'instrumentalness', 'liveness', 'valence', 'tempo',\n",
              "       'duration_ms', 'time_signature', 'liked'],\n",
              "      dtype='object')"
            ]
          },
          "metadata": {},
          "execution_count": 8
        }
      ]
    },
    {
      "cell_type": "code",
      "source": [
        "#To check the presence of outliers in the dataset\n",
        "def detect_outliers(data,feature):\n",
        "  feature_data=data[feature]\n",
        "  Q1=np.percentile(feature_data,25)\n",
        "  Q3=np.percentile(feature_data,75)\n",
        "  IQR=Q3-Q1\n",
        "  lower_bound=Q1-1.5*IQR\n",
        "  upper_bound=Q3-1.5*IQR\n",
        "\n",
        "  outliers=np.where((feature_data<lower_bound)|(feature_data>upper_bound))[0]"
      ],
      "metadata": {
        "id": "eY2HThtnkdce"
      },
      "execution_count": 9,
      "outputs": []
    },
    {
      "cell_type": "code",
      "source": [
        "columns=['danceability', 'energy', 'key', 'loudness', 'mode', 'speechiness','acousticness', 'instrumentalness', 'liveness', 'valence', 'tempo','duration_ms', 'time_signature']\n",
        "for column in columns:\n",
        "  outliers=detect_outliers(df,column)\n",
        "  print('outlies are present on',column,\":\",outliers)"
      ],
      "metadata": {
        "colab": {
          "base_uri": "https://localhost:8080/"
        },
        "id": "CO4YrbqTnXcB",
        "outputId": "8541d438-4a64-42fe-d756-913e2f141f33"
      },
      "execution_count": 10,
      "outputs": [
        {
          "output_type": "stream",
          "name": "stdout",
          "text": [
            "outlies are present on danceability : None\n",
            "outlies are present on energy : None\n",
            "outlies are present on key : None\n",
            "outlies are present on loudness : None\n",
            "outlies are present on mode : None\n",
            "outlies are present on speechiness : None\n",
            "outlies are present on acousticness : None\n",
            "outlies are present on instrumentalness : None\n",
            "outlies are present on liveness : None\n",
            "outlies are present on valence : None\n",
            "outlies are present on tempo : None\n",
            "outlies are present on duration_ms : None\n",
            "outlies are present on time_signature : None\n"
          ]
        }
      ]
    },
    {
      "cell_type": "markdown",
      "source": [
        "**EXPLORATORY DATA ANALYSIS**"
      ],
      "metadata": {
        "id": "X6WSA55LYNnR"
      }
    },
    {
      "cell_type": "code",
      "source": [
        "# ENERGY VS LIKED\n",
        "sns.barplot(x='liked',y='energy',data=df,hue='mode').set(title='ENERGY VS LIKED')"
      ],
      "metadata": {
        "id": "g4BBp-5ksp0r",
        "colab": {
          "base_uri": "https://localhost:8080/",
          "height": 489
        },
        "outputId": "d47dbc16-911e-4633-9fd2-5c2e58f164d7"
      },
      "execution_count": 11,
      "outputs": [
        {
          "output_type": "execute_result",
          "data": {
            "text/plain": [
              "[Text(0.5, 1.0, 'ENERGY VS LIKED')]"
            ]
          },
          "metadata": {},
          "execution_count": 11
        },
        {
          "output_type": "display_data",
          "data": {
            "text/plain": [
              "<Figure size 640x480 with 1 Axes>"
            ],
            "image/png": "[encoded data removed]"
          },
          "metadata": {}
        }
      ]
    },
    {
      "cell_type": "markdown",
      "source": [
        "The songs having high energy is liked by more people than songs having lower energy. Mode 0 has slightly high energy than mode 1 for both the liked and disliked songs"
      ],
      "metadata": {
        "id": "JENzbo5jcu_d"
      }
    },
    {
      "cell_type": "code",
      "source": [
        "#DURATION_MS VS LIKED\n",
        "sns.barplot(x='liked',y='duration_ms',data=df,hue='time_signature').set(title='DURATION_MS VS LIKED')"
      ],
      "metadata": {
        "id": "J_IxzG-2mvpy",
        "colab": {
          "base_uri": "https://localhost:8080/",
          "height": 488
        },
        "outputId": "fb23faee-889b-4000-b67e-13311442356e"
      },
      "execution_count": 12,
      "outputs": [
        {
          "output_type": "execute_result",
          "data": {
            "text/plain": [
              "[Text(0.5, 1.0, 'DURATION_MS VS LIKED')]"
            ]
          },
          "metadata": {},
          "execution_count": 12
        },
        {
          "output_type": "display_data",
          "data": {
            "text/plain": [
              "<Figure size 640x480 with 1 Axes>"
            ],
            "image/png": "[encoded data removed]"
          },
          "metadata": {}
        }
      ]
    },
    {
      "cell_type": "markdown",
      "source": [
        "The songs which are liked are having lower time duration for all time_signatures"
      ],
      "metadata": {
        "id": "AnaDSnKjnE3P"
      }
    },
    {
      "cell_type": "code",
      "source": [
        "df['liked'].value_counts()"
      ],
      "metadata": {
        "id": "siWNNgeqNYuM",
        "colab": {
          "base_uri": "https://localhost:8080/"
        },
        "outputId": "596293b3-9711-4e35-ab1b-14f88a1f4ef3"
      },
      "execution_count": 13,
      "outputs": [
        {
          "output_type": "execute_result",
          "data": {
            "text/plain": [
              "1    100\n",
              "0     95\n",
              "Name: liked, dtype: int64"
            ]
          },
          "metadata": {},
          "execution_count": 13
        }
      ]
    },
    {
      "cell_type": "code",
      "source": [
        "sns.countplot(x='liked',data=df)"
      ],
      "metadata": {
        "id": "Jf6XAqLGrkeG",
        "colab": {
          "base_uri": "https://localhost:8080/",
          "height": 466
        },
        "outputId": "ddf6c404-2406-4bff-ecb4-5acfbca0a536"
      },
      "execution_count": 14,
      "outputs": [
        {
          "output_type": "execute_result",
          "data": {
            "text/plain": [
              "<Axes: xlabel='liked', ylabel='count'>"
            ]
          },
          "metadata": {},
          "execution_count": 14
        },
        {
          "output_type": "display_data",
          "data": {
            "text/plain": [
              "<Figure size 640x480 with 1 Axes>"
            ],
            "image/png": "[encoded data removed]"
          },
          "metadata": {}
        }
      ]
    },
    {
      "cell_type": "markdown",
      "source": [
        "**SEPERATE X AND Y**"
      ],
      "metadata": {
        "id": "J5LhrH4ssjNo"
      }
    },
    {
      "cell_type": "code",
      "source": [
        "#Seperating input and output variables\n",
        "X=df.iloc[:,:-1]\n",
        "X.head()"
      ],
      "metadata": {
        "id": "uOQKpU7-OZWR",
        "colab": {
          "base_uri": "https://localhost:8080/",
          "height": 270
        },
        "outputId": "bac13e0c-83e9-4ced-ae46-a3b8635d9258"
      },
      "execution_count": 15,
      "outputs": [
        {
          "output_type": "execute_result",
          "data": {
            "text/plain": [
              "   danceability  energy  key  loudness  mode  speechiness  acousticness  \\\n",
              "0         0.803  0.6240    7    -6.764     0       0.0477         0.451   \n",
              "1         0.762  0.7030   10    -7.951     0       0.3060         0.206   \n",
              "2         0.261  0.0149    1   -27.528     1       0.0419         0.992   \n",
              "3         0.722  0.7360    3    -6.994     0       0.0585         0.431   \n",
              "4         0.787  0.5720    1    -7.516     1       0.2220         0.145   \n",
              "\n",
              "   instrumentalness  liveness   valence    tempo  duration_ms  time_signature  \n",
              "0          0.000734    0.1000  0.628000   95.968       304524               4  \n",
              "1          0.000000    0.0912  0.519000  151.329       247178               4  \n",
              "2          0.897000    0.1020  0.164846   75.296       286987               4  \n",
              "3          0.000001    0.1230  0.582000   89.860       208920               4  \n",
              "4          0.000000    0.0753  0.647000  155.117       179413               4  "
            ],
            "text/html": [
              "\n",
              "\n",
              "  <div id=\"df-06d9b7eb-2e89-4d21-80bd-700069956c6a\">\n",
              "    <div class=\"colab-df-container\">\n",
              "      <div>\n",
              "<style scoped>\n",
              "    .dataframe tbody tr th:only-of-type {\n",
              "        vertical-align: middle;\n",
              "    }\n",
              "\n",
              "    .dataframe tbody tr th {\n",
              "        vertical-align: top;\n",
              "    }\n",
              "\n",
              "    .dataframe thead th {\n",
              "        text-align: right;\n",
              "    }\n",
              "</style>\n",
              "<table border=\"1\" class=\"dataframe\">\n",
              "  <thead>\n",
              "    <tr style=\"text-align: right;\">\n",
              "      <th></th>\n",
              "      <th>danceability</th>\n",
              "      <th>energy</th>\n",
              "      <th>key</th>\n",
              "      <th>loudness</th>\n",
              "      <th>mode</th>\n",
              "      <th>speechiness</th>\n",
              "      <th>acousticness</th>\n",
              "      <th>instrumentalness</th>\n",
              "      <th>liveness</th>\n",
              "      <th>valence</th>\n",
              "      <th>tempo</th>\n",
              "      <th>duration_ms</th>\n",
              "      <th>time_signature</th>\n",
              "    </tr>\n",
              "  </thead>\n",
              "  <tbody>\n",
              "    <tr>\n",
              "      <th>0</th>\n",
              "      <td>0.803</td>\n",
              "      <td>0.6240</td>\n",
              "      <td>7</td>\n",
              "      <td>-6.764</td>\n",
              "      <td>0</td>\n",
              "      <td>0.0477</td>\n",
              "      <td>0.451</td>\n",
              "      <td>0.000734</td>\n",
              "      <td>0.1000</td>\n",
              "      <td>0.628000</td>\n",
              "      <td>95.968</td>\n",
              "      <td>304524</td>\n",
              "      <td>4</td>\n",
              "    </tr>\n",
              "    <tr>\n",
              "      <th>1</th>\n",
              "      <td>0.762</td>\n",
              "      <td>0.7030</td>\n",
              "      <td>10</td>\n",
              "      <td>-7.951</td>\n",
              "      <td>0</td>\n",
              "      <td>0.3060</td>\n",
              "      <td>0.206</td>\n",
              "      <td>0.000000</td>\n",
              "      <td>0.0912</td>\n",
              "      <td>0.519000</td>\n",
              "      <td>151.329</td>\n",
              "      <td>247178</td>\n",
              "      <td>4</td>\n",
              "    </tr>\n",
              "    <tr>\n",
              "      <th>2</th>\n",
              "      <td>0.261</td>\n",
              "      <td>0.0149</td>\n",
              "      <td>1</td>\n",
              "      <td>-27.528</td>\n",
              "      <td>1</td>\n",
              "      <td>0.0419</td>\n",
              "      <td>0.992</td>\n",
              "      <td>0.897000</td>\n",
              "      <td>0.1020</td>\n",
              "      <td>0.164846</td>\n",
              "      <td>75.296</td>\n",
              "      <td>286987</td>\n",
              "      <td>4</td>\n",
              "    </tr>\n",
              "    <tr>\n",
              "      <th>3</th>\n",
              "      <td>0.722</td>\n",
              "      <td>0.7360</td>\n",
              "      <td>3</td>\n",
              "      <td>-6.994</td>\n",
              "      <td>0</td>\n",
              "      <td>0.0585</td>\n",
              "      <td>0.431</td>\n",
              "      <td>0.000001</td>\n",
              "      <td>0.1230</td>\n",
              "      <td>0.582000</td>\n",
              "      <td>89.860</td>\n",
              "      <td>208920</td>\n",
              "      <td>4</td>\n",
              "    </tr>\n",
              "    <tr>\n",
              "      <th>4</th>\n",
              "      <td>0.787</td>\n",
              "      <td>0.5720</td>\n",
              "      <td>1</td>\n",
              "      <td>-7.516</td>\n",
              "      <td>1</td>\n",
              "      <td>0.2220</td>\n",
              "      <td>0.145</td>\n",
              "      <td>0.000000</td>\n",
              "      <td>0.0753</td>\n",
              "      <td>0.647000</td>\n",
              "      <td>155.117</td>\n",
              "      <td>179413</td>\n",
              "      <td>4</td>\n",
              "    </tr>\n",
              "  </tbody>\n",
              "</table>\n",
              "</div>\n",
              "      <button class=\"colab-df-convert\" onclick=\"convertToInteractive('df-06d9b7eb-2e89-4d21-80bd-700069956c6a')\"\n",
              "              title=\"Convert this dataframe to an interactive table.\"\n",
              "              style=\"display:none;\">\n",
              "\n",
              "  <svg xmlns=\"http://www.w3.org/2000/svg\" height=\"24px\"viewBox=\"0 0 24 24\"\n",
              "       width=\"24px\">\n",
              "    <path d=\"M0 0h24v24H0V0z\" fill=\"none\"/>\n",
              "    <path d=\"M18.56 5.44l.94 2.06.94-2.06 2.06-.94-2.06-.94-.94-2.06-.94 2.06-2.06.94zm-11 1L8.5 8.5l.94-2.06 2.06-.94-2.06-.94L8.5 2.5l-.94 2.06-2.06.94zm10 10l.94 2.06.94-2.06 2.06-.94-2.06-.94-.94-2.06-.94 2.06-2.06.94z\"/><path d=\"M17.41 7.96l-1.37-1.37c-.4-.4-.92-.59-1.43-.59-.52 0-1.04.2-1.43.59L10.3 9.45l-7.72 7.72c-.78.78-.78 2.05 0 2.83L4 21.41c.39.39.9.59 1.41.59.51 0 1.02-.2 1.41-.59l7.78-7.78 2.81-2.81c.8-.78.8-2.07 0-2.86zM5.41 20L4 18.59l7.72-7.72 1.47 1.35L5.41 20z\"/>\n",
              "  </svg>\n",
              "      </button>\n",
              "\n",
              "\n",
              "\n",
              "    <div id=\"df-55daf82b-6df6-49e2-a26b-dccd19c176ae\">\n",
              "      <button class=\"colab-df-quickchart\" onclick=\"quickchart('df-55daf82b-6df6-49e2-a26b-dccd19c176ae')\"\n",
              "              title=\"Suggest charts.\"\n",
              "              style=\"display:none;\">\n",
              "\n",
              "<svg xmlns=\"http://www.w3.org/2000/svg\" height=\"24px\"viewBox=\"0 0 24 24\"\n",
              "     width=\"24px\">\n",
              "    <g>\n",
              "        <path d=\"M19 3H5c-1.1 0-2 .9-2 2v14c0 1.1.9 2 2 2h14c1.1 0 2-.9 2-2V5c0-1.1-.9-2-2-2zM9 17H7v-7h2v7zm4 0h-2V7h2v10zm4 0h-2v-4h2v4z\"/>\n",
              "    </g>\n",
              "</svg>\n",
              "      </button>\n",
              "    </div>\n",
              "\n",
              "<style>\n",
              "  .colab-df-quickchart {\n",
              "    background-color: #E8F0FE;\n",
              "    border: none;\n",
              "    border-radius: 50%;\n",
              "    cursor: pointer;\n",
              "    display: none;\n",
              "    fill: #1967D2;\n",
              "    height: 32px;\n",
              "    padding: 0 0 0 0;\n",
              "    width: 32px;\n",
              "  }\n",
              "\n",
              "  .colab-df-quickchart:hover {\n",
              "    background-color: #E2EBFA;\n",
              "    box-shadow: 0px 1px 2px rgba(60, 64, 67, 0.3), 0px 1px 3px 1px rgba(60, 64, 67, 0.15);\n",
              "    fill: #174EA6;\n",
              "  }\n",
              "\n",
              "  [theme=dark] .colab-df-quickchart {\n",
              "    background-color: #3B4455;\n",
              "    fill: #D2E3FC;\n",
              "  }\n",
              "\n",
              "  [theme=dark] .colab-df-quickchart:hover {\n",
              "    background-color: #434B5C;\n",
              "    box-shadow: 0px 1px 3px 1px rgba(0, 0, 0, 0.15);\n",
              "    filter: drop-shadow(0px 1px 2px rgba(0, 0, 0, 0.3));\n",
              "    fill: #FFFFFF;\n",
              "  }\n",
              "</style>\n",
              "\n",
              "    <script>\n",
              "      async function quickchart(key) {\n",
              "        const containerElement = document.querySelector('#' + key);\n",
              "        const charts = await google.colab.kernel.invokeFunction(\n",
              "            'suggestCharts', [key], {});\n",
              "      }\n",
              "    </script>\n",
              "\n",
              "      <script>\n",
              "\n",
              "function displayQuickchartButton(domScope) {\n",
              "  let quickchartButtonEl =\n",
              "    domScope.querySelector('#df-55daf82b-6df6-49e2-a26b-dccd19c176ae button.colab-df-quickchart');\n",
              "  quickchartButtonEl.style.display =\n",
              "    google.colab.kernel.accessAllowed ? 'block' : 'none';\n",
              "}\n",
              "\n",
              "        displayQuickchartButton(document);\n",
              "      </script>\n",
              "      <style>\n",
              "    .colab-df-container {\n",
              "      display:flex;\n",
              "      flex-wrap:wrap;\n",
              "      gap: 12px;\n",
              "    }\n",
              "\n",
              "    .colab-df-convert {\n",
              "      background-color: #E8F0FE;\n",
              "      border: none;\n",
              "      border-radius: 50%;\n",
              "      cursor: pointer;\n",
              "      display: none;\n",
              "      fill: #1967D2;\n",
              "      height: 32px;\n",
              "      padding: 0 0 0 0;\n",
              "      width: 32px;\n",
              "    }\n",
              "\n",
              "    .colab-df-convert:hover {\n",
              "      background-color: #E2EBFA;\n",
              "      box-shadow: 0px 1px 2px rgba(60, 64, 67, 0.3), 0px 1px 3px 1px rgba(60, 64, 67, 0.15);\n",
              "      fill: #174EA6;\n",
              "    }\n",
              "\n",
              "    [theme=dark] .colab-df-convert {\n",
              "      background-color: #3B4455;\n",
              "      fill: #D2E3FC;\n",
              "    }\n",
              "\n",
              "    [theme=dark] .colab-df-convert:hover {\n",
              "      background-color: #434B5C;\n",
              "      box-shadow: 0px 1px 3px 1px rgba(0, 0, 0, 0.15);\n",
              "      filter: drop-shadow(0px 1px 2px rgba(0, 0, 0, 0.3));\n",
              "      fill: #FFFFFF;\n",
              "    }\n",
              "  </style>\n",
              "\n",
              "      <script>\n",
              "        const buttonEl =\n",
              "          document.querySelector('#df-06d9b7eb-2e89-4d21-80bd-700069956c6a button.colab-df-convert');\n",
              "        buttonEl.style.display =\n",
              "          google.colab.kernel.accessAllowed ? 'block' : 'none';\n",
              "\n",
              "        async function convertToInteractive(key) {\n",
              "          const element = document.querySelector('#df-06d9b7eb-2e89-4d21-80bd-700069956c6a');\n",
              "          const dataTable =\n",
              "            await google.colab.kernel.invokeFunction('convertToInteractive',\n",
              "                                                     [key], {});\n",
              "          if (!dataTable) return;\n",
              "\n",
              "          const docLinkHtml = 'Like what you see? Visit the ' +\n",
              "            '<a target=\"_blank\" href=https://colab.research.google.com/notebooks/data_table.ipynb>data table notebook</a>'\n",
              "            + ' to learn more about interactive tables.';\n",
              "          element.innerHTML = '';\n",
              "          dataTable['output_type'] = 'display_data';\n",
              "          await google.colab.output.renderOutput(dataTable, element);\n",
              "          const docLink = document.createElement('div');\n",
              "          docLink.innerHTML = docLinkHtml;\n",
              "          element.appendChild(docLink);\n",
              "        }\n",
              "      </script>\n",
              "    </div>\n",
              "  </div>\n"
            ]
          },
          "metadata": {},
          "execution_count": 15
        }
      ]
    },
    {
      "cell_type": "code",
      "source": [
        "y=df.iloc[:,-1]\n",
        "y"
      ],
      "metadata": {
        "id": "l9WQvx9rOjbw",
        "colab": {
          "base_uri": "https://localhost:8080/"
        },
        "outputId": "fab9ffbd-aa68-4ae6-b859-240bac4338b1"
      },
      "execution_count": 16,
      "outputs": [
        {
          "output_type": "execute_result",
          "data": {
            "text/plain": [
              "0      0\n",
              "1      1\n",
              "2      0\n",
              "3      1\n",
              "4      1\n",
              "      ..\n",
              "190    0\n",
              "191    0\n",
              "192    0\n",
              "193    1\n",
              "194    1\n",
              "Name: liked, Length: 195, dtype: int64"
            ]
          },
          "metadata": {},
          "execution_count": 16
        }
      ]
    },
    {
      "cell_type": "markdown",
      "source": [
        "**SCALING USING MINMAXSCALER**"
      ],
      "metadata": {
        "id": "-kYuczZdsqVc"
      }
    },
    {
      "cell_type": "code",
      "source": [
        "mm=MinMaxScaler()\n",
        "X_sc=mm.fit_transform(X)\n",
        "X_sc"
      ],
      "metadata": {
        "id": "PgNTL_pUNg-e",
        "colab": {
          "base_uri": "https://localhost:8080/"
        },
        "outputId": "12f844d4-f7bc-4157-aa74-2811c0cc3c72"
      },
      "execution_count": 17,
      "outputs": [
        {
          "output_type": "execute_result",
          "data": {
            "text/plain": [
              "array([[0.8247549 , 0.62560386, 0.63636364, ..., 0.29864431, 0.39328212,\n",
              "        0.75      ],\n",
              "       [0.7745098 , 0.70511272, 0.90909091, ..., 0.76050557, 0.29406931,\n",
              "        0.75      ],\n",
              "       [0.16053922, 0.01258052, 0.09090909, ..., 0.12618362, 0.36294182,\n",
              "        0.75      ],\n",
              "       ...,\n",
              "       [0.45220588, 0.35084541, 0.81818182, ..., 0.25439453, 0.27463885,\n",
              "        0.75      ],\n",
              "       [0.54411765, 0.73128019, 0.90909091, ..., 0.42027281, 0.19556063,\n",
              "        1.        ],\n",
              "       [0.75612745, 0.6678744 , 1.        , ..., 0.14462937, 0.17302469,\n",
              "        0.75      ]])"
            ]
          },
          "metadata": {},
          "execution_count": 17
        }
      ]
    },
    {
      "cell_type": "markdown",
      "source": [
        "**TRAIN TEST SPLIT**"
      ],
      "metadata": {
        "id": "XcGpVfjKs0Tv"
      }
    },
    {
      "cell_type": "code",
      "source": [
        "X_train,X_test,y_train,y_test=train_test_split(X_sc,y,test_size=0.3,random_state=1)"
      ],
      "metadata": {
        "id": "ruHIQWBcO4CF"
      },
      "execution_count": 18,
      "outputs": []
    },
    {
      "cell_type": "markdown",
      "source": [
        "**MODEL BUILDING AND EVALUATION**"
      ],
      "metadata": {
        "id": "9ZJsrAA1s68o"
      }
    },
    {
      "cell_type": "code",
      "source": [
        "#KNEIGHBORS CLASSIFICATION\n",
        "knn=KNeighborsClassifier(n_neighbors=7)\n",
        "knn.fit(X_train,y_train)\n",
        "y_pred=knn.predict(X_test)\n",
        "print(classification_report(y_test,y_pred))"
      ],
      "metadata": {
        "id": "0ZGmYoNqOtYe",
        "colab": {
          "base_uri": "https://localhost:8080/"
        },
        "outputId": "65403bf3-ad9b-4f80-e9b8-3a5f756ed19d"
      },
      "execution_count": 19,
      "outputs": [
        {
          "output_type": "stream",
          "name": "stdout",
          "text": [
            "              precision    recall  f1-score   support\n",
            "\n",
            "           0       0.89      0.89      0.89        27\n",
            "           1       0.91      0.91      0.91        32\n",
            "\n",
            "    accuracy                           0.90        59\n",
            "   macro avg       0.90      0.90      0.90        59\n",
            "weighted avg       0.90      0.90      0.90        59\n",
            "\n"
          ]
        }
      ]
    },
    {
      "cell_type": "code",
      "source": [
        "#SUPPORT VECTOR CLASSIFICATION\n",
        "sv=SVC(kernel='rbf')\n",
        "sv.fit(X_train,y_train)\n",
        "y_pred1=sv.predict(X_test)\n",
        "print(classification_report(y_test,y_pred1))"
      ],
      "metadata": {
        "id": "_o-ySbszPj5W",
        "colab": {
          "base_uri": "https://localhost:8080/"
        },
        "outputId": "90fb142c-559c-4416-c2ab-78c6d2bda2ec"
      },
      "execution_count": 20,
      "outputs": [
        {
          "output_type": "stream",
          "name": "stdout",
          "text": [
            "              precision    recall  f1-score   support\n",
            "\n",
            "           0       0.92      0.81      0.86        27\n",
            "           1       0.86      0.94      0.90        32\n",
            "\n",
            "    accuracy                           0.88        59\n",
            "   macro avg       0.89      0.88      0.88        59\n",
            "weighted avg       0.88      0.88      0.88        59\n",
            "\n"
          ]
        }
      ]
    },
    {
      "cell_type": "code",
      "source": [
        "#NAIVE BAYES CLASSIFICATION\n",
        "nb=GaussianNB()\n",
        "nb.fit(X_train,y_train)\n",
        "y_pred2=nb.predict(X_test)\n",
        "print(classification_report(y_test,y_pred2))"
      ],
      "metadata": {
        "id": "eD0O-RfhD19c",
        "colab": {
          "base_uri": "https://localhost:8080/"
        },
        "outputId": "15f55b6b-3903-4c66-8295-6b0e69217fc7"
      },
      "execution_count": 21,
      "outputs": [
        {
          "output_type": "stream",
          "name": "stdout",
          "text": [
            "              precision    recall  f1-score   support\n",
            "\n",
            "           0       1.00      0.81      0.90        27\n",
            "           1       0.86      1.00      0.93        32\n",
            "\n",
            "    accuracy                           0.92        59\n",
            "   macro avg       0.93      0.91      0.91        59\n",
            "weighted avg       0.93      0.92      0.91        59\n",
            "\n"
          ]
        }
      ]
    },
    {
      "cell_type": "code",
      "source": [
        "#DECISION TREE CLASSIFICATION\n",
        "dt=DecisionTreeClassifier(criterion='gini',random_state=3,)\n",
        "dt.fit(X_train,y_train)\n",
        "y_pred3=dt.predict(X_test)\n",
        "print(classification_report(y_test,y_pred3))"
      ],
      "metadata": {
        "id": "5raIhbghEaNe",
        "colab": {
          "base_uri": "https://localhost:8080/"
        },
        "outputId": "754f189e-9095-4f8c-b5fb-b12c89d461d0"
      },
      "execution_count": 22,
      "outputs": [
        {
          "output_type": "stream",
          "name": "stdout",
          "text": [
            "              precision    recall  f1-score   support\n",
            "\n",
            "           0       0.93      0.93      0.93        27\n",
            "           1       0.94      0.94      0.94        32\n",
            "\n",
            "    accuracy                           0.93        59\n",
            "   macro avg       0.93      0.93      0.93        59\n",
            "weighted avg       0.93      0.93      0.93        59\n",
            "\n"
          ]
        }
      ]
    },
    {
      "cell_type": "code",
      "source": [
        "#RANDOM FOREST CLASSIFICATION\n",
        "rf=RandomForestClassifier(n_estimators=100,random_state=1)\n",
        "rf.fit(X_train,y_train)\n",
        "y_pred4=dt.predict(X_test)\n",
        "print(classification_report(y_test,y_pred4))"
      ],
      "metadata": {
        "id": "ogEdOy5oFmwl",
        "colab": {
          "base_uri": "https://localhost:8080/"
        },
        "outputId": "3779edb1-c82d-4709-f42b-941f9f655bcb"
      },
      "execution_count": 23,
      "outputs": [
        {
          "output_type": "stream",
          "name": "stdout",
          "text": [
            "              precision    recall  f1-score   support\n",
            "\n",
            "           0       0.93      0.93      0.93        27\n",
            "           1       0.94      0.94      0.94        32\n",
            "\n",
            "    accuracy                           0.93        59\n",
            "   macro avg       0.93      0.93      0.93        59\n",
            "weighted avg       0.93      0.93      0.93        59\n",
            "\n"
          ]
        }
      ]
    },
    {
      "cell_type": "code",
      "source": [
        "#ADABOOST CLASSIFICATION\n",
        "ab=AdaBoostClassifier(random_state=1)\n",
        "ab.fit(X_train,y_train)\n",
        "y_pred5=ab.predict(X_test)\n",
        "print(classification_report(y_test,y_pred5))"
      ],
      "metadata": {
        "id": "nKeu_wWOGSF1",
        "colab": {
          "base_uri": "https://localhost:8080/"
        },
        "outputId": "30e0e6d9-a988-43ce-d4ce-0e9829b7d11f"
      },
      "execution_count": 24,
      "outputs": [
        {
          "output_type": "stream",
          "name": "stdout",
          "text": [
            "              precision    recall  f1-score   support\n",
            "\n",
            "           0       0.89      0.89      0.89        27\n",
            "           1       0.91      0.91      0.91        32\n",
            "\n",
            "    accuracy                           0.90        59\n",
            "   macro avg       0.90      0.90      0.90        59\n",
            "weighted avg       0.90      0.90      0.90        59\n",
            "\n"
          ]
        }
      ]
    },
    {
      "cell_type": "code",
      "source": [
        "#XGBOOST CLASSIFICATION\n",
        "xg=XGBClassifier(n_estimators=100)\n",
        "xg.fit(X_train,y_train)\n",
        "y_pred6=xg.predict(X_test)\n",
        "print(classification_report(y_test,y_pred6))"
      ],
      "metadata": {
        "id": "Nf0Vlu6DqyXm",
        "colab": {
          "base_uri": "https://localhost:8080/"
        },
        "outputId": "6521a1c6-0e00-4bf1-d60c-a6094dd486d5"
      },
      "execution_count": 25,
      "outputs": [
        {
          "output_type": "stream",
          "name": "stdout",
          "text": [
            "              precision    recall  f1-score   support\n",
            "\n",
            "           0       0.96      0.89      0.92        27\n",
            "           1       0.91      0.97      0.94        32\n",
            "\n",
            "    accuracy                           0.93        59\n",
            "   macro avg       0.94      0.93      0.93        59\n",
            "weighted avg       0.93      0.93      0.93        59\n",
            "\n"
          ]
        }
      ]
    },
    {
      "cell_type": "markdown",
      "source": [
        "**OVERSAMPLING**"
      ],
      "metadata": {
        "id": "1HdAG6scDi_p"
      }
    },
    {
      "cell_type": "code",
      "source": [
        "os=SMOTE(random_state=1)\n",
        "X_os,y_os=os.fit_resample(X,y)\n",
        "y_os.value_counts()"
      ],
      "metadata": {
        "id": "2PN6YAqI_1UZ",
        "colab": {
          "base_uri": "https://localhost:8080/"
        },
        "outputId": "70cba7c0-32f3-42c9-9ed6-0efafd018681"
      },
      "execution_count": 26,
      "outputs": [
        {
          "output_type": "execute_result",
          "data": {
            "text/plain": [
              "0    100\n",
              "1    100\n",
              "Name: liked, dtype: int64"
            ]
          },
          "metadata": {},
          "execution_count": 26
        }
      ]
    },
    {
      "cell_type": "code",
      "source": [
        "#SCALING AFTER OVERSAMPLING\n",
        "mm1=MinMaxScaler()\n",
        "X_sc1=mm1.fit_transform(X_os)\n",
        "X_sc1"
      ],
      "metadata": {
        "id": "yuOLaMKABHLe",
        "colab": {
          "base_uri": "https://localhost:8080/"
        },
        "outputId": "be353ae5-99f6-4291-a815-7dee2c4eb3d7"
      },
      "execution_count": 27,
      "outputs": [
        {
          "output_type": "execute_result",
          "data": {
            "text/plain": [
              "array([[0.8247549 , 0.62560386, 0.63636364, ..., 0.29864431, 0.39328212,\n",
              "        0.75      ],\n",
              "       [0.7745098 , 0.70511272, 0.90909091, ..., 0.76050557, 0.29406931,\n",
              "        0.75      ],\n",
              "       [0.16053922, 0.01258052, 0.09090909, ..., 0.12618362, 0.36294182,\n",
              "        0.75      ],\n",
              "       ...,\n",
              "       [0.7808555 , 0.7271072 , 0.45454545, ..., 0.39615186, 0.23507206,\n",
              "        0.75      ],\n",
              "       [0.71791091, 0.77737001, 0.63636364, ..., 0.3565965 , 0.29132714,\n",
              "        0.75      ],\n",
              "       [0.28375492, 0.04664473, 0.09090909, ..., 0.0411634 , 0.28424076,\n",
              "        0.5       ]])"
            ]
          },
          "metadata": {},
          "execution_count": 27
        }
      ]
    },
    {
      "cell_type": "code",
      "source": [
        "#TRAIN TEST SPLIT AFTER OVERSAMPLING\n",
        "X_train,X_test,y_train,y_test=train_test_split(X_sc1,y_os,test_size=0.3,random_state=1)"
      ],
      "metadata": {
        "id": "eECDcJT8D5ev"
      },
      "execution_count": 28,
      "outputs": []
    },
    {
      "cell_type": "code",
      "source": [
        "#KNEIGHBORS CLASSIFICATION AFTER OVER SAMPLING\n",
        "knn1=KNeighborsClassifier(n_neighbors=7)\n",
        "knn1.fit(X_train,y_train)\n",
        "y_pred7=knn1.predict(X_test)\n",
        "print(classification_report(y_test,y_pred7))"
      ],
      "metadata": {
        "id": "ilPPV27XEdqh",
        "colab": {
          "base_uri": "https://localhost:8080/"
        },
        "outputId": "476135c0-a541-4085-a52c-e74ac2403d1c"
      },
      "execution_count": 29,
      "outputs": [
        {
          "output_type": "stream",
          "name": "stdout",
          "text": [
            "              precision    recall  f1-score   support\n",
            "\n",
            "           0       0.84      0.93      0.88        28\n",
            "           1       0.93      0.84      0.89        32\n",
            "\n",
            "    accuracy                           0.88        60\n",
            "   macro avg       0.88      0.89      0.88        60\n",
            "weighted avg       0.89      0.88      0.88        60\n",
            "\n"
          ]
        }
      ]
    },
    {
      "cell_type": "code",
      "source": [
        "#HYPER PARAMETER TUNING OF KNEIGHBORS CLASSIFIER\n",
        "knn2=KNeighborsClassifier()\n",
        "params_knn={'n_neighbors':[5,7,9,11,13,15],'weights':['uniform','distance'],'algorithm':['auto','ball_tree','kd_tree','brute']}\n",
        "clf1=GridSearchCV(knn2,params_knn,cv=5,scoring='accuracy')\n",
        "clf1.fit(X_train,y_train)\n",
        "clf1.best_params_"
      ],
      "metadata": {
        "id": "an-F6OnX9Xry",
        "colab": {
          "base_uri": "https://localhost:8080/"
        },
        "outputId": "e648a93e-436c-4716-8c48-f93064ec1644"
      },
      "execution_count": 30,
      "outputs": [
        {
          "output_type": "execute_result",
          "data": {
            "text/plain": [
              "{'algorithm': 'auto', 'n_neighbors': 7, 'weights': 'uniform'}"
            ]
          },
          "metadata": {},
          "execution_count": 30
        }
      ]
    },
    {
      "cell_type": "code",
      "source": [
        "#KNEIGHBORS CLASSIFICATION AFTER HYPER PARAMETER TUNING\n",
        "knn3=KNeighborsClassifier(n_neighbors=7,algorithm='auto',weights='uniform')\n",
        "knn3.fit(X_train,y_train)\n",
        "y_pred_knn=knn3.predict(X_test)\n",
        "print(classification_report(y_test,y_pred_knn))"
      ],
      "metadata": {
        "id": "Uoh_8rO6_alz",
        "colab": {
          "base_uri": "https://localhost:8080/"
        },
        "outputId": "df9eb9c3-bec4-45e8-d385-c224a6b1d621"
      },
      "execution_count": 31,
      "outputs": [
        {
          "output_type": "stream",
          "name": "stdout",
          "text": [
            "              precision    recall  f1-score   support\n",
            "\n",
            "           0       0.84      0.93      0.88        28\n",
            "           1       0.93      0.84      0.89        32\n",
            "\n",
            "    accuracy                           0.88        60\n",
            "   macro avg       0.88      0.89      0.88        60\n",
            "weighted avg       0.89      0.88      0.88        60\n",
            "\n"
          ]
        }
      ]
    },
    {
      "cell_type": "code",
      "source": [
        "#SUPPORT VECTOR CLASSIFICATION AFTER OVER SAMPLING\n",
        "sv1=SVC(kernel='poly')\n",
        "sv1.fit(X_train,y_train)\n",
        "y_pred8=sv1.predict(X_test)\n",
        "print(classification_report(y_test,y_pred8))"
      ],
      "metadata": {
        "id": "T5Kj61m5F-9t",
        "colab": {
          "base_uri": "https://localhost:8080/"
        },
        "outputId": "18731f96-3c30-4862-e07a-8ef4313ac912"
      },
      "execution_count": 32,
      "outputs": [
        {
          "output_type": "stream",
          "name": "stdout",
          "text": [
            "              precision    recall  f1-score   support\n",
            "\n",
            "           0       0.96      0.93      0.95        28\n",
            "           1       0.94      0.97      0.95        32\n",
            "\n",
            "    accuracy                           0.95        60\n",
            "   macro avg       0.95      0.95      0.95        60\n",
            "weighted avg       0.95      0.95      0.95        60\n",
            "\n"
          ]
        }
      ]
    },
    {
      "cell_type": "code",
      "source": [
        "#HYPER PARAMETER TUNING OF SUPPORT VECTOR CLASSIFIER\n",
        "sv2=SVC()\n",
        "params_sv={'kernel':['linear','poly','rbf','sigmoid'],'gamma':['scale','auto']}\n",
        "clf2=GridSearchCV(sv2,params_sv,cv=5,scoring='accuracy')\n",
        "clf2.fit(X_train,y_train)\n",
        "clf2.best_params_"
      ],
      "metadata": {
        "id": "Ed9JJuH7S-Mh",
        "colab": {
          "base_uri": "https://localhost:8080/"
        },
        "outputId": "61e4ccae-42d0-4b4a-e5e5-83b970397ca1"
      },
      "execution_count": 33,
      "outputs": [
        {
          "output_type": "execute_result",
          "data": {
            "text/plain": [
              "{'gamma': 'scale', 'kernel': 'poly'}"
            ]
          },
          "metadata": {},
          "execution_count": 33
        }
      ]
    },
    {
      "cell_type": "code",
      "source": [
        "#SUPPORT VECTOR CLASSIFICATION AFTER HYPER PARAMETER TUNING\n",
        "sv3=SVC(kernel='poly',gamma='scale')\n",
        "sv3.fit(X_train,y_train)\n",
        "y_pred_sv=sv3.predict(X_test)\n",
        "print(classification_report(y_test,y_pred_sv))"
      ],
      "metadata": {
        "id": "oXfo2RbCX-Qh",
        "colab": {
          "base_uri": "https://localhost:8080/"
        },
        "outputId": "f14dc52f-b65a-4432-b4d2-0824b52924b0"
      },
      "execution_count": 34,
      "outputs": [
        {
          "output_type": "stream",
          "name": "stdout",
          "text": [
            "              precision    recall  f1-score   support\n",
            "\n",
            "           0       0.96      0.93      0.95        28\n",
            "           1       0.94      0.97      0.95        32\n",
            "\n",
            "    accuracy                           0.95        60\n",
            "   macro avg       0.95      0.95      0.95        60\n",
            "weighted avg       0.95      0.95      0.95        60\n",
            "\n"
          ]
        }
      ]
    },
    {
      "cell_type": "code",
      "source": [
        "#NAIVE BAYES CLASSIFICATION AFTER OVER SAMPLING\n",
        "nb1=GaussianNB()\n",
        "nb1.fit(X_train,y_train)\n",
        "y_pred9=nb1.predict(X_test)\n",
        "print(classification_report(y_test,y_pred9))\n"
      ],
      "metadata": {
        "id": "hht_9lhTJGhn",
        "colab": {
          "base_uri": "https://localhost:8080/"
        },
        "outputId": "28c55dff-b642-4f10-cf56-85ebc0124a65"
      },
      "execution_count": 35,
      "outputs": [
        {
          "output_type": "stream",
          "name": "stdout",
          "text": [
            "              precision    recall  f1-score   support\n",
            "\n",
            "           0       1.00      0.79      0.88        28\n",
            "           1       0.84      1.00      0.91        32\n",
            "\n",
            "    accuracy                           0.90        60\n",
            "   macro avg       0.92      0.89      0.90        60\n",
            "weighted avg       0.92      0.90      0.90        60\n",
            "\n"
          ]
        }
      ]
    },
    {
      "cell_type": "code",
      "source": [
        "#DECISION TREE CLASSIFICATION AFTER OVER SAMPLING\n",
        "dt1=DecisionTreeClassifier(criterion='gini',random_state=1)\n",
        "dt1.fit(X_train,y_train)\n",
        "y_pred10=dt1.predict(X_test)\n",
        "print(classification_report(y_test,y_pred10))"
      ],
      "metadata": {
        "id": "SCvNYv6kJ5gA",
        "colab": {
          "base_uri": "https://localhost:8080/"
        },
        "outputId": "fa8d08d2-0f2c-4980-d826-033fa1e1b36d"
      },
      "execution_count": 36,
      "outputs": [
        {
          "output_type": "stream",
          "name": "stdout",
          "text": [
            "              precision    recall  f1-score   support\n",
            "\n",
            "           0       0.87      0.93      0.90        28\n",
            "           1       0.93      0.88      0.90        32\n",
            "\n",
            "    accuracy                           0.90        60\n",
            "   macro avg       0.90      0.90      0.90        60\n",
            "weighted avg       0.90      0.90      0.90        60\n",
            "\n"
          ]
        }
      ]
    },
    {
      "cell_type": "code",
      "source": [
        "#HYPER PARAMETER TUNING OF DECISON TREE CLASSIFIER\n",
        "dt2=DecisionTreeClassifier()\n",
        "params_dt={'criterion':['gini','entropy'],'splitter':['best','random']}\n",
        "clf3=GridSearchCV(dt2,params_dt,cv=5,scoring='accuracy')\n",
        "clf3.fit(X_train,y_train)\n",
        "clf3.best_params_"
      ],
      "metadata": {
        "id": "9Qv17ndzAjEb",
        "colab": {
          "base_uri": "https://localhost:8080/"
        },
        "outputId": "301bf8aa-c495-4e9e-aa1d-2c8fd0c46e78"
      },
      "execution_count": 37,
      "outputs": [
        {
          "output_type": "execute_result",
          "data": {
            "text/plain": [
              "{'criterion': 'entropy', 'splitter': 'best'}"
            ]
          },
          "metadata": {},
          "execution_count": 37
        }
      ]
    },
    {
      "cell_type": "code",
      "source": [
        "#DECISION TREE CLASSIFICATION AFTER HYPER PARAMETER TUNING\n",
        "dt3=DecisionTreeClassifier(criterion='entropy',splitter='best')\n",
        "dt3.fit(X_train,y_train)\n",
        "y_pred_dt=dt3.predict(X_test)\n",
        "print(classification_report(y_test,y_pred_dt))"
      ],
      "metadata": {
        "id": "B_8dXvOxB6jy",
        "colab": {
          "base_uri": "https://localhost:8080/"
        },
        "outputId": "9c35a741-6257-40b8-b7e5-c9b31a413a26"
      },
      "execution_count": 38,
      "outputs": [
        {
          "output_type": "stream",
          "name": "stdout",
          "text": [
            "              precision    recall  f1-score   support\n",
            "\n",
            "           0       0.93      0.96      0.95        28\n",
            "           1       0.97      0.94      0.95        32\n",
            "\n",
            "    accuracy                           0.95        60\n",
            "   macro avg       0.95      0.95      0.95        60\n",
            "weighted avg       0.95      0.95      0.95        60\n",
            "\n"
          ]
        }
      ]
    },
    {
      "cell_type": "code",
      "source": [
        "#RANDOM FOREST CLASSIFICATION AFTER OVER SAMPLING\n",
        "rf1=RandomForestClassifier(n_estimators=100,random_state=1)\n",
        "rf1.fit(X_train,y_train)\n",
        "y_pred11=rf1.predict(X_test)\n",
        "print(classification_report(y_test,y_pred11))"
      ],
      "metadata": {
        "id": "6rWmTx__K_1B",
        "colab": {
          "base_uri": "https://localhost:8080/"
        },
        "outputId": "26b99ca5-8300-476c-f023-60f8d974de0c"
      },
      "execution_count": 39,
      "outputs": [
        {
          "output_type": "stream",
          "name": "stdout",
          "text": [
            "              precision    recall  f1-score   support\n",
            "\n",
            "           0       1.00      0.96      0.98        28\n",
            "           1       0.97      1.00      0.98        32\n",
            "\n",
            "    accuracy                           0.98        60\n",
            "   macro avg       0.98      0.98      0.98        60\n",
            "weighted avg       0.98      0.98      0.98        60\n",
            "\n"
          ]
        }
      ]
    },
    {
      "cell_type": "code",
      "source": [
        "#HYPER PARAMETER TUNING OF RANDOMFOREST CLASSIFIER\n",
        "rf2=RandomForestClassifier()\n",
        "params_rf={'n_estimators':[50,75,100,125,150],'criterion':['entropy','gini']}\n",
        "clf4=GridSearchCV(rf2,params_rf,cv=5,scoring='accuracy')\n",
        "clf4.fit(X_train,y_train)\n",
        "clf4.best_params_"
      ],
      "metadata": {
        "id": "dBlluL8XbJyj",
        "colab": {
          "base_uri": "https://localhost:8080/"
        },
        "outputId": "4f562dbc-8714-4b49-a663-bc4cfe993e86"
      },
      "execution_count": 40,
      "outputs": [
        {
          "output_type": "execute_result",
          "data": {
            "text/plain": [
              "{'criterion': 'entropy', 'n_estimators': 50}"
            ]
          },
          "metadata": {},
          "execution_count": 40
        }
      ]
    },
    {
      "cell_type": "code",
      "source": [
        "#RANDOM FOREST CLASSIFICATION AFTER HYPER PARAMETER TUNING\n",
        "rf3=RandomForestClassifier(n_estimators=100,criterion='entropy',random_state=1)\n",
        "rf3.fit(X_train,y_train)\n",
        "y_pred_rf=rf3.predict(X_test)\n",
        "print(classification_report(y_test,y_pred_rf))"
      ],
      "metadata": {
        "id": "a3L6EKb_d8ql",
        "colab": {
          "base_uri": "https://localhost:8080/"
        },
        "outputId": "07600417-2b09-4805-ee81-e42f485da073"
      },
      "execution_count": 41,
      "outputs": [
        {
          "output_type": "stream",
          "name": "stdout",
          "text": [
            "              precision    recall  f1-score   support\n",
            "\n",
            "           0       1.00      0.96      0.98        28\n",
            "           1       0.97      1.00      0.98        32\n",
            "\n",
            "    accuracy                           0.98        60\n",
            "   macro avg       0.98      0.98      0.98        60\n",
            "weighted avg       0.98      0.98      0.98        60\n",
            "\n"
          ]
        }
      ]
    },
    {
      "cell_type": "code",
      "source": [
        "#PREDICTION USING RANDOM FOREST CLASSIFICATION\n",
        "y_new1=rf3.predict(mm1.transform([[0.803,0.6240,7,-6.764,0,0.0477,0.451,0.000734,0.1000,0.628000,95.968,304524,4]]))\n",
        "if y_new1==1:\n",
        "  print('The Song is Liked')\n",
        "else:\n",
        "  print('The Song is Disliked')"
      ],
      "metadata": {
        "id": "xEpFOD4JLrWI",
        "colab": {
          "base_uri": "https://localhost:8080/"
        },
        "outputId": "c8df193c-c4b5-4e77-f13b-99af11649cef"
      },
      "execution_count": 42,
      "outputs": [
        {
          "output_type": "stream",
          "name": "stdout",
          "text": [
            "The Song is Disliked\n"
          ]
        }
      ]
    },
    {
      "cell_type": "code",
      "source": [
        "y_new2=rf3.predict(mm1.transform([[0.762,0.7030,10,-7.951,0,0.3060,0.2060,0.000000,0.0912,0.519,151.329,247178,4]]))\n",
        "if y_new2==1:\n",
        "  print('The Song is Liked')\n",
        "else:\n",
        "  print('The Song is Disliked')"
      ],
      "metadata": {
        "id": "hz5ljZM6mVCN",
        "colab": {
          "base_uri": "https://localhost:8080/"
        },
        "outputId": "cc44618a-577c-4dd2-b7c7-73294d18ed53"
      },
      "execution_count": 43,
      "outputs": [
        {
          "output_type": "stream",
          "name": "stdout",
          "text": [
            "The Song is Liked\n"
          ]
        }
      ]
    },
    {
      "cell_type": "code",
      "source": [
        "#CONFUSION MEATRIX OF RANDOM FOREST CLASSIFICATION\n",
        "print(ConfusionMatrixDisplay.from_predictions(y_test,y_pred_rf))"
      ],
      "metadata": {
        "id": "CGshRgYin5V6",
        "colab": {
          "base_uri": "https://localhost:8080/",
          "height": 466
        },
        "outputId": "48f57664-8861-48c1-f7eb-749d9f008e07"
      },
      "execution_count": 44,
      "outputs": [
        {
          "output_type": "stream",
          "name": "stdout",
          "text": [
            "<sklearn.metrics._plot.confusion_matrix.ConfusionMatrixDisplay object at 0x7f9805a2ae90>\n"
          ]
        },
        {
          "output_type": "display_data",
          "data": {
            "text/plain": [
              "<Figure size 640x480 with 2 Axes>"
            ],
            "image/png": "[encoded data removed]"
          },
          "metadata": {}
        }
      ]
    },
    {
      "cell_type": "code",
      "source": [
        "#ADABOOST CLASSIFICATION AFTER OVER SAMPLING\n",
        "ab1=AdaBoostClassifier(random_state=1)\n",
        "ab1.fit(X_train,y_train)\n",
        "y_pred12=ab1.predict(X_test)\n",
        "print(classification_report(y_test,y_pred12))"
      ],
      "metadata": {
        "id": "s1C8yrMXLbqI",
        "colab": {
          "base_uri": "https://localhost:8080/"
        },
        "outputId": "fd2cae9c-b292-4a95-9342-4ef09f7148cb"
      },
      "execution_count": 45,
      "outputs": [
        {
          "output_type": "stream",
          "name": "stdout",
          "text": [
            "              precision    recall  f1-score   support\n",
            "\n",
            "           0       0.90      0.93      0.91        28\n",
            "           1       0.94      0.91      0.92        32\n",
            "\n",
            "    accuracy                           0.92        60\n",
            "   macro avg       0.92      0.92      0.92        60\n",
            "weighted avg       0.92      0.92      0.92        60\n",
            "\n"
          ]
        }
      ]
    },
    {
      "cell_type": "code",
      "source": [
        "#HYPER PARAMETER TUNING OF ADABOOST CLASSIFIER\n",
        "ab2=AdaBoostClassifier()\n",
        "params_ab={'n_estimators':[50,75,100,125,150]}\n",
        "clf5=GridSearchCV(ab2,params_ab,cv=5,scoring='accuracy')\n",
        "clf5.fit(X_train,y_train)\n",
        "clf5.best_params_"
      ],
      "metadata": {
        "id": "NMx2_zlPLwWM",
        "colab": {
          "base_uri": "https://localhost:8080/"
        },
        "outputId": "6f3adf0d-f744-40db-ac9b-a75d62c1abe4"
      },
      "execution_count": 46,
      "outputs": [
        {
          "output_type": "execute_result",
          "data": {
            "text/plain": [
              "{'n_estimators': 75}"
            ]
          },
          "metadata": {},
          "execution_count": 46
        }
      ]
    },
    {
      "cell_type": "code",
      "source": [
        "#ADABOOST CLASSIFICATION AFTER HYPER PARAMETER TUNING\n",
        "ab3=AdaBoostClassifier(n_estimators=75,random_state=1)\n",
        "ab3.fit(X_train,y_train)\n",
        "y_pred_ab=ab3.predict(X_test)\n",
        "print(classification_report(y_test,y_pred_ab))"
      ],
      "metadata": {
        "id": "mIebFbU5Guv0",
        "colab": {
          "base_uri": "https://localhost:8080/"
        },
        "outputId": "1efb3f01-4b9c-4314-a980-5bda577f9cf6"
      },
      "execution_count": 47,
      "outputs": [
        {
          "output_type": "stream",
          "name": "stdout",
          "text": [
            "              precision    recall  f1-score   support\n",
            "\n",
            "           0       0.87      0.96      0.92        28\n",
            "           1       0.97      0.88      0.92        32\n",
            "\n",
            "    accuracy                           0.92        60\n",
            "   macro avg       0.92      0.92      0.92        60\n",
            "weighted avg       0.92      0.92      0.92        60\n",
            "\n"
          ]
        }
      ]
    },
    {
      "cell_type": "code",
      "source": [
        "#XGBOOST CLASSIFICATION AFTER OVER SAMPLING\n",
        "xg1=XGBClassifier(n_estimators=75)\n",
        "xg1.fit(X_train,y_train)\n",
        "y_pred13=xg1.predict(X_test)\n",
        "print(classification_report(y_test,y_pred13))"
      ],
      "metadata": {
        "id": "-aL2iggJu5xT",
        "colab": {
          "base_uri": "https://localhost:8080/"
        },
        "outputId": "586e145c-4f98-4470-febf-f5d2f7db232f"
      },
      "execution_count": 48,
      "outputs": [
        {
          "output_type": "stream",
          "name": "stdout",
          "text": [
            "              precision    recall  f1-score   support\n",
            "\n",
            "           0       1.00      0.96      0.98        28\n",
            "           1       0.97      1.00      0.98        32\n",
            "\n",
            "    accuracy                           0.98        60\n",
            "   macro avg       0.98      0.98      0.98        60\n",
            "weighted avg       0.98      0.98      0.98        60\n",
            "\n"
          ]
        }
      ]
    },
    {
      "cell_type": "code",
      "source": [
        "#PREDICTION USING XGBOOSTCLASSIFIER\n",
        "y_new1=xg1.predict(mm1.transform([[0.803,0.6240,7,-6.764,0,0.0477,0.451,0.000734,0.1000,0.628000,95.968,304524,4]]))\n",
        "if y_new1==1:\n",
        "  print('The Song is Liked')\n",
        "else:\n",
        "  print('The Song is Disliked')"
      ],
      "metadata": {
        "id": "1yaG8blUyBPG",
        "colab": {
          "base_uri": "https://localhost:8080/"
        },
        "outputId": "2c5be264-c5c0-436e-f2b3-720059bc9ba2"
      },
      "execution_count": 49,
      "outputs": [
        {
          "output_type": "stream",
          "name": "stdout",
          "text": [
            "The Song is Disliked\n"
          ]
        }
      ]
    },
    {
      "cell_type": "code",
      "source": [
        "y_new2=xg1.predict(mm1.transform([[0.762,0.7030,10,-7.951,0,0.3060,0.2060,0.000000,0.0912,0.519,151.329,247178,4]]))\n",
        "if y_new2==1:\n",
        "  print('The Song is Liked')\n",
        "else:\n",
        "  print('The Song is Disliked')"
      ],
      "metadata": {
        "id": "ZPUaKOgKYfPd",
        "colab": {
          "base_uri": "https://localhost:8080/"
        },
        "outputId": "b84d7d92-2176-4b60-ff5d-85342be527b6"
      },
      "execution_count": 50,
      "outputs": [
        {
          "output_type": "stream",
          "name": "stdout",
          "text": [
            "The Song is Liked\n"
          ]
        }
      ]
    },
    {
      "cell_type": "code",
      "source": [
        "print(ConfusionMatrixDisplay.from_predictions(y_test,y_pred13))"
      ],
      "metadata": {
        "id": "7TDx8GOah3Ta",
        "colab": {
          "base_uri": "https://localhost:8080/",
          "height": 466
        },
        "outputId": "82d0f0d0-5a2c-4465-dfef-625741ab0681"
      },
      "execution_count": 51,
      "outputs": [
        {
          "output_type": "stream",
          "name": "stdout",
          "text": [
            "<sklearn.metrics._plot.confusion_matrix.ConfusionMatrixDisplay object at 0x7f980515ebf0>\n"
          ]
        },
        {
          "output_type": "display_data",
          "data": {
            "text/plain": [
              "<Figure size 640x480 with 2 Axes>"
            ],
            "image/png": "[encoded data removed]"
          },
          "metadata": {}
        }
      ]
    },
    {
      "cell_type": "markdown",
      "source": [
        "**FEATURE EXTRACTION - PRINCIPLE COMPONENT ANALYSIS**"
      ],
      "metadata": {
        "id": "Yg-EN31ZzIlL"
      }
    },
    {
      "cell_type": "code",
      "source": [
        "#PRINCIPLE COMPONENT ANALYSIS OF RANDOM FOREST CLASSIFICATION\n",
        "pca=PCA(n_components=7)\n",
        "X_train=pca.fit_transform(X_train)\n",
        "X_test=pca.transform(X_test)"
      ],
      "metadata": {
        "id": "TyKbIUZ4L8eo"
      },
      "execution_count": 52,
      "outputs": []
    },
    {
      "cell_type": "code",
      "source": [
        "#RANDOM FOREST CLASSIFICATION AFTER PRINCIPLE COMPONENT ANALYSIS\n",
        "rf4=RandomForestClassifier(n_estimators=100,criterion='entropy',random_state=1)\n",
        "rf4.fit(X_train,y_train)\n",
        "y_pred_pca=rf4.predict(X_test)\n",
        "print(classification_report(y_test,y_pred_pca))"
      ],
      "metadata": {
        "id": "ixwNHw__Neb7",
        "colab": {
          "base_uri": "https://localhost:8080/"
        },
        "outputId": "025fb919-d6e0-46bc-f938-e2d3ea40acf4"
      },
      "execution_count": 53,
      "outputs": [
        {
          "output_type": "stream",
          "name": "stdout",
          "text": [
            "              precision    recall  f1-score   support\n",
            "\n",
            "           0       0.90      1.00      0.95        28\n",
            "           1       1.00      0.91      0.95        32\n",
            "\n",
            "    accuracy                           0.95        60\n",
            "   macro avg       0.95      0.95      0.95        60\n",
            "weighted avg       0.95      0.95      0.95        60\n",
            "\n"
          ]
        }
      ]
    },
    {
      "cell_type": "code",
      "source": [
        "print(ConfusionMatrixDisplay.from_predictions(y_test,y_pred_pca))"
      ],
      "metadata": {
        "id": "v7RvNjNeoUGb",
        "colab": {
          "base_uri": "https://localhost:8080/",
          "height": 466
        },
        "outputId": "e3576518-8bc4-444c-ad9e-863101c0565d"
      },
      "execution_count": 54,
      "outputs": [
        {
          "output_type": "stream",
          "name": "stdout",
          "text": [
            "<sklearn.metrics._plot.confusion_matrix.ConfusionMatrixDisplay object at 0x7f980515eb60>\n"
          ]
        },
        {
          "output_type": "display_data",
          "data": {
            "text/plain": [
              "<Figure size 640x480 with 2 Axes>"
            ],
            "image/png": "[encoded data removed]"
          },
          "metadata": {}
        }
      ]
    },
    {
      "cell_type": "code",
      "source": [
        "pca.explained_variance_ratio_"
      ],
      "metadata": {
        "id": "s9TERoeWWp1N",
        "colab": {
          "base_uri": "https://localhost:8080/"
        },
        "outputId": "cea181e2-ddbc-4760-f3bb-232629ba2d87"
      },
      "execution_count": 55,
      "outputs": [
        {
          "output_type": "execute_result",
          "data": {
            "text/plain": [
              "array([0.29235432, 0.23330621, 0.13985973, 0.10381601, 0.0621901 ,\n",
              "       0.04331107, 0.033109  ])"
            ]
          },
          "metadata": {},
          "execution_count": 55
        }
      ]
    },
    {
      "cell_type": "markdown",
      "source": [
        "**FEATURE SELECTION**"
      ],
      "metadata": {
        "id": "6KOcH5dgmzdM"
      }
    },
    {
      "cell_type": "code",
      "source": [
        "#CHI-SQUARE TEST\n",
        "chi2_selector=SelectKBest(chi2,k=8)\n",
        "X_kbest=chi2_selector.fit_transform(X_sc1,y_os)\n",
        "X_kbest.shape"
      ],
      "metadata": {
        "id": "TZFa6FGNRuQ8",
        "colab": {
          "base_uri": "https://localhost:8080/"
        },
        "outputId": "660b09e4-022a-44e2-ae3f-9c19fbddb4ac"
      },
      "execution_count": 56,
      "outputs": [
        {
          "output_type": "execute_result",
          "data": {
            "text/plain": [
              "(200, 8)"
            ]
          },
          "metadata": {},
          "execution_count": 56
        }
      ]
    },
    {
      "cell_type": "code",
      "source": [
        "X_kbest_indices=chi2_selector.get_support(indices=True)\n",
        "print('X_kbest_indices:',X_kbest_indices)\n",
        "print('selected_features:',df.columns[X_kbest_indices].tolist())"
      ],
      "metadata": {
        "colab": {
          "base_uri": "https://localhost:8080/"
        },
        "id": "0-PPKWwO0HNV",
        "outputId": "0f0ff153-6f51-458f-98e2-f07d4151ed04"
      },
      "execution_count": 57,
      "outputs": [
        {
          "output_type": "stream",
          "name": "stdout",
          "text": [
            "X_kbest_indices: [ 0  3  5  6  7  9 10 11]\n",
            "selected_features: ['danceability', 'loudness', 'speechiness', 'acousticness', 'instrumentalness', 'valence', 'tempo', 'duration_ms']\n"
          ]
        }
      ]
    },
    {
      "cell_type": "code",
      "source": [
        "#Drop other features to get a new dataset\n",
        "X_os.drop(['energy','mode','time_signature','key','liveness'],axis=1,inplace=True)\n",
        "X_os"
      ],
      "metadata": {
        "colab": {
          "base_uri": "https://localhost:8080/",
          "height": 423
        },
        "id": "c9e_X8JQ_DNw",
        "outputId": "9ea65ca2-6974-4096-d9ad-902f98659625"
      },
      "execution_count": 58,
      "outputs": [
        {
          "output_type": "execute_result",
          "data": {
            "text/plain": [
              "     danceability   loudness  speechiness  acousticness  instrumentalness  \\\n",
              "0        0.803000  -6.764000     0.047700      0.451000          0.000734   \n",
              "1        0.762000  -7.951000     0.306000      0.206000          0.000000   \n",
              "2        0.261000 -27.528000     0.041900      0.992000          0.897000   \n",
              "3        0.722000  -6.994000     0.058500      0.431000          0.000001   \n",
              "4        0.787000  -7.516000     0.222000      0.145000          0.000000   \n",
              "..            ...        ...          ...           ...               ...   \n",
              "195      0.398538 -19.661890     0.072767      0.857057          0.112453   \n",
              "196      0.777040  -7.706052     0.070366      0.292914          0.000029   \n",
              "197      0.767178  -6.047280     0.079832      0.149038          0.213921   \n",
              "198      0.715815  -8.256011     0.062476      0.091488          0.002455   \n",
              "199      0.361544 -24.432096     0.038744      0.991612          0.928129   \n",
              "\n",
              "      valence       tempo  duration_ms  \n",
              "0    0.628000   95.968000       304524  \n",
              "1    0.519000  151.329000       247178  \n",
              "2    0.164846   75.296000       286987  \n",
              "3    0.582000   89.860000       208920  \n",
              "4    0.647000  155.117000       179413  \n",
              "..        ...         ...          ...  \n",
              "195  0.124000  100.426888       270383  \n",
              "196  0.124039  119.950259       247160  \n",
              "197  0.124000  107.655743       213077  \n",
              "198  0.140199  102.914440       245593  \n",
              "199  0.124000   65.105052       241497  \n",
              "\n",
              "[200 rows x 8 columns]"
            ],
            "text/html": [
              "\n",
              "\n",
              "  <div id=\"df-d3d212de-17bb-4020-af1e-b0edfce4e422\">\n",
              "    <div class=\"colab-df-container\">\n",
              "      <div>\n",
              "<style scoped>\n",
              "    .dataframe tbody tr th:only-of-type {\n",
              "        vertical-align: middle;\n",
              "    }\n",
              "\n",
              "    .dataframe tbody tr th {\n",
              "        vertical-align: top;\n",
              "    }\n",
              "\n",
              "    .dataframe thead th {\n",
              "        text-align: right;\n",
              "    }\n",
              "</style>\n",
              "<table border=\"1\" class=\"dataframe\">\n",
              "  <thead>\n",
              "    <tr style=\"text-align: right;\">\n",
              "      <th></th>\n",
              "      <th>danceability</th>\n",
              "      <th>loudness</th>\n",
              "      <th>speechiness</th>\n",
              "      <th>acousticness</th>\n",
              "      <th>instrumentalness</th>\n",
              "      <th>valence</th>\n",
              "      <th>tempo</th>\n",
              "      <th>duration_ms</th>\n",
              "    </tr>\n",
              "  </thead>\n",
              "  <tbody>\n",
              "    <tr>\n",
              "      <th>0</th>\n",
              "      <td>0.803000</td>\n",
              "      <td>-6.764000</td>\n",
              "      <td>0.047700</td>\n",
              "      <td>0.451000</td>\n",
              "      <td>0.000734</td>\n",
              "      <td>0.628000</td>\n",
              "      <td>95.968000</td>\n",
              "      <td>304524</td>\n",
              "    </tr>\n",
              "    <tr>\n",
              "      <th>1</th>\n",
              "      <td>0.762000</td>\n",
              "      <td>-7.951000</td>\n",
              "      <td>0.306000</td>\n",
              "      <td>0.206000</td>\n",
              "      <td>0.000000</td>\n",
              "      <td>0.519000</td>\n",
              "      <td>151.329000</td>\n",
              "      <td>247178</td>\n",
              "    </tr>\n",
              "    <tr>\n",
              "      <th>2</th>\n",
              "      <td>0.261000</td>\n",
              "      <td>-27.528000</td>\n",
              "      <td>0.041900</td>\n",
              "      <td>0.992000</td>\n",
              "      <td>0.897000</td>\n",
              "      <td>0.164846</td>\n",
              "      <td>75.296000</td>\n",
              "      <td>286987</td>\n",
              "    </tr>\n",
              "    <tr>\n",
              "      <th>3</th>\n",
              "      <td>0.722000</td>\n",
              "      <td>-6.994000</td>\n",
              "      <td>0.058500</td>\n",
              "      <td>0.431000</td>\n",
              "      <td>0.000001</td>\n",
              "      <td>0.582000</td>\n",
              "      <td>89.860000</td>\n",
              "      <td>208920</td>\n",
              "    </tr>\n",
              "    <tr>\n",
              "      <th>4</th>\n",
              "      <td>0.787000</td>\n",
              "      <td>-7.516000</td>\n",
              "      <td>0.222000</td>\n",
              "      <td>0.145000</td>\n",
              "      <td>0.000000</td>\n",
              "      <td>0.647000</td>\n",
              "      <td>155.117000</td>\n",
              "      <td>179413</td>\n",
              "    </tr>\n",
              "    <tr>\n",
              "      <th>...</th>\n",
              "      <td>...</td>\n",
              "      <td>...</td>\n",
              "      <td>...</td>\n",
              "      <td>...</td>\n",
              "      <td>...</td>\n",
              "      <td>...</td>\n",
              "      <td>...</td>\n",
              "      <td>...</td>\n",
              "    </tr>\n",
              "    <tr>\n",
              "      <th>195</th>\n",
              "      <td>0.398538</td>\n",
              "      <td>-19.661890</td>\n",
              "      <td>0.072767</td>\n",
              "      <td>0.857057</td>\n",
              "      <td>0.112453</td>\n",
              "      <td>0.124000</td>\n",
              "      <td>100.426888</td>\n",
              "      <td>270383</td>\n",
              "    </tr>\n",
              "    <tr>\n",
              "      <th>196</th>\n",
              "      <td>0.777040</td>\n",
              "      <td>-7.706052</td>\n",
              "      <td>0.070366</td>\n",
              "      <td>0.292914</td>\n",
              "      <td>0.000029</td>\n",
              "      <td>0.124039</td>\n",
              "      <td>119.950259</td>\n",
              "      <td>247160</td>\n",
              "    </tr>\n",
              "    <tr>\n",
              "      <th>197</th>\n",
              "      <td>0.767178</td>\n",
              "      <td>-6.047280</td>\n",
              "      <td>0.079832</td>\n",
              "      <td>0.149038</td>\n",
              "      <td>0.213921</td>\n",
              "      <td>0.124000</td>\n",
              "      <td>107.655743</td>\n",
              "      <td>213077</td>\n",
              "    </tr>\n",
              "    <tr>\n",
              "      <th>198</th>\n",
              "      <td>0.715815</td>\n",
              "      <td>-8.256011</td>\n",
              "      <td>0.062476</td>\n",
              "      <td>0.091488</td>\n",
              "      <td>0.002455</td>\n",
              "      <td>0.140199</td>\n",
              "      <td>102.914440</td>\n",
              "      <td>245593</td>\n",
              "    </tr>\n",
              "    <tr>\n",
              "      <th>199</th>\n",
              "      <td>0.361544</td>\n",
              "      <td>-24.432096</td>\n",
              "      <td>0.038744</td>\n",
              "      <td>0.991612</td>\n",
              "      <td>0.928129</td>\n",
              "      <td>0.124000</td>\n",
              "      <td>65.105052</td>\n",
              "      <td>241497</td>\n",
              "    </tr>\n",
              "  </tbody>\n",
              "</table>\n",
              "<p>200 rows × 8 columns</p>\n",
              "</div>\n",
              "      <button class=\"colab-df-convert\" onclick=\"convertToInteractive('df-d3d212de-17bb-4020-af1e-b0edfce4e422')\"\n",
              "              title=\"Convert this dataframe to an interactive table.\"\n",
              "              style=\"display:none;\">\n",
              "\n",
              "  <svg xmlns=\"http://www.w3.org/2000/svg\" height=\"24px\"viewBox=\"0 0 24 24\"\n",
              "       width=\"24px\">\n",
              "    <path d=\"M0 0h24v24H0V0z\" fill=\"none\"/>\n",
              "    <path d=\"M18.56 5.44l.94 2.06.94-2.06 2.06-.94-2.06-.94-.94-2.06-.94 2.06-2.06.94zm-11 1L8.5 8.5l.94-2.06 2.06-.94-2.06-.94L8.5 2.5l-.94 2.06-2.06.94zm10 10l.94 2.06.94-2.06 2.06-.94-2.06-.94-.94-2.06-.94 2.06-2.06.94z\"/><path d=\"M17.41 7.96l-1.37-1.37c-.4-.4-.92-.59-1.43-.59-.52 0-1.04.2-1.43.59L10.3 9.45l-7.72 7.72c-.78.78-.78 2.05 0 2.83L4 21.41c.39.39.9.59 1.41.59.51 0 1.02-.2 1.41-.59l7.78-7.78 2.81-2.81c.8-.78.8-2.07 0-2.86zM5.41 20L4 18.59l7.72-7.72 1.47 1.35L5.41 20z\"/>\n",
              "  </svg>\n",
              "      </button>\n",
              "\n",
              "\n",
              "\n",
              "    <div id=\"df-b94fc444-dcae-4880-89f5-cc16dbd9eb9c\">\n",
              "      <button class=\"colab-df-quickchart\" onclick=\"quickchart('df-b94fc444-dcae-4880-89f5-cc16dbd9eb9c')\"\n",
              "              title=\"Suggest charts.\"\n",
              "              style=\"display:none;\">\n",
              "\n",
              "<svg xmlns=\"http://www.w3.org/2000/svg\" height=\"24px\"viewBox=\"0 0 24 24\"\n",
              "     width=\"24px\">\n",
              "    <g>\n",
              "        <path d=\"M19 3H5c-1.1 0-2 .9-2 2v14c0 1.1.9 2 2 2h14c1.1 0 2-.9 2-2V5c0-1.1-.9-2-2-2zM9 17H7v-7h2v7zm4 0h-2V7h2v10zm4 0h-2v-4h2v4z\"/>\n",
              "    </g>\n",
              "</svg>\n",
              "      </button>\n",
              "    </div>\n",
              "\n",
              "<style>\n",
              "  .colab-df-quickchart {\n",
              "    background-color: #E8F0FE;\n",
              "    border: none;\n",
              "    border-radius: 50%;\n",
              "    cursor: pointer;\n",
              "    display: none;\n",
              "    fill: #1967D2;\n",
              "    height: 32px;\n",
              "    padding: 0 0 0 0;\n",
              "    width: 32px;\n",
              "  }\n",
              "\n",
              "  .colab-df-quickchart:hover {\n",
              "    background-color: #E2EBFA;\n",
              "    box-shadow: 0px 1px 2px rgba(60, 64, 67, 0.3), 0px 1px 3px 1px rgba(60, 64, 67, 0.15);\n",
              "    fill: #174EA6;\n",
              "  }\n",
              "\n",
              "  [theme=dark] .colab-df-quickchart {\n",
              "    background-color: #3B4455;\n",
              "    fill: #D2E3FC;\n",
              "  }\n",
              "\n",
              "  [theme=dark] .colab-df-quickchart:hover {\n",
              "    background-color: #434B5C;\n",
              "    box-shadow: 0px 1px 3px 1px rgba(0, 0, 0, 0.15);\n",
              "    filter: drop-shadow(0px 1px 2px rgba(0, 0, 0, 0.3));\n",
              "    fill: #FFFFFF;\n",
              "  }\n",
              "</style>\n",
              "\n",
              "    <script>\n",
              "      async function quickchart(key) {\n",
              "        const containerElement = document.querySelector('#' + key);\n",
              "        const charts = await google.colab.kernel.invokeFunction(\n",
              "            'suggestCharts', [key], {});\n",
              "      }\n",
              "    </script>\n",
              "\n",
              "      <script>\n",
              "\n",
              "function displayQuickchartButton(domScope) {\n",
              "  let quickchartButtonEl =\n",
              "    domScope.querySelector('#df-b94fc444-dcae-4880-89f5-cc16dbd9eb9c button.colab-df-quickchart');\n",
              "  quickchartButtonEl.style.display =\n",
              "    google.colab.kernel.accessAllowed ? 'block' : 'none';\n",
              "}\n",
              "\n",
              "        displayQuickchartButton(document);\n",
              "      </script>\n",
              "      <style>\n",
              "    .colab-df-container {\n",
              "      display:flex;\n",
              "      flex-wrap:wrap;\n",
              "      gap: 12px;\n",
              "    }\n",
              "\n",
              "    .colab-df-convert {\n",
              "      background-color: #E8F0FE;\n",
              "      border: none;\n",
              "      border-radius: 50%;\n",
              "      cursor: pointer;\n",
              "      display: none;\n",
              "      fill: #1967D2;\n",
              "      height: 32px;\n",
              "      padding: 0 0 0 0;\n",
              "      width: 32px;\n",
              "    }\n",
              "\n",
              "    .colab-df-convert:hover {\n",
              "      background-color: #E2EBFA;\n",
              "      box-shadow: 0px 1px 2px rgba(60, 64, 67, 0.3), 0px 1px 3px 1px rgba(60, 64, 67, 0.15);\n",
              "      fill: #174EA6;\n",
              "    }\n",
              "\n",
              "    [theme=dark] .colab-df-convert {\n",
              "      background-color: #3B4455;\n",
              "      fill: #D2E3FC;\n",
              "    }\n",
              "\n",
              "    [theme=dark] .colab-df-convert:hover {\n",
              "      background-color: #434B5C;\n",
              "      box-shadow: 0px 1px 3px 1px rgba(0, 0, 0, 0.15);\n",
              "      filter: drop-shadow(0px 1px 2px rgba(0, 0, 0, 0.3));\n",
              "      fill: #FFFFFF;\n",
              "    }\n",
              "  </style>\n",
              "\n",
              "      <script>\n",
              "        const buttonEl =\n",
              "          document.querySelector('#df-d3d212de-17bb-4020-af1e-b0edfce4e422 button.colab-df-convert');\n",
              "        buttonEl.style.display =\n",
              "          google.colab.kernel.accessAllowed ? 'block' : 'none';\n",
              "\n",
              "        async function convertToInteractive(key) {\n",
              "          const element = document.querySelector('#df-d3d212de-17bb-4020-af1e-b0edfce4e422');\n",
              "          const dataTable =\n",
              "            await google.colab.kernel.invokeFunction('convertToInteractive',\n",
              "                                                     [key], {});\n",
              "          if (!dataTable) return;\n",
              "\n",
              "          const docLinkHtml = 'Like what you see? Visit the ' +\n",
              "            '<a target=\"_blank\" href=https://colab.research.google.com/notebooks/data_table.ipynb>data table notebook</a>'\n",
              "            + ' to learn more about interactive tables.';\n",
              "          element.innerHTML = '';\n",
              "          dataTable['output_type'] = 'display_data';\n",
              "          await google.colab.output.renderOutput(dataTable, element);\n",
              "          const docLink = document.createElement('div');\n",
              "          docLink.innerHTML = docLinkHtml;\n",
              "          element.appendChild(docLink);\n",
              "        }\n",
              "      </script>\n",
              "    </div>\n",
              "  </div>\n"
            ]
          },
          "metadata": {},
          "execution_count": 58
        }
      ]
    },
    {
      "cell_type": "code",
      "source": [
        "mm2=MinMaxScaler()\n",
        "X_sc2=mm2.fit_transform(X_os,y_os)"
      ],
      "metadata": {
        "id": "TNa8txHw_AjR"
      },
      "execution_count": 59,
      "outputs": []
    },
    {
      "cell_type": "code",
      "source": [
        "X_train,X_test,y_train,y_test=train_test_split(X_kbest,y_os,test_size=0.3,random_state=1)"
      ],
      "metadata": {
        "id": "PGRocR6IUz6_"
      },
      "execution_count": 60,
      "outputs": []
    },
    {
      "cell_type": "code",
      "source": [
        "#RANDOM FOREST CLASSIFICATION AFTER CHI-SQUARE TEST\n",
        "rf5=RandomForestClassifier(n_estimators=100,criterion='entropy',random_state=1)\n",
        "rf5.fit(X_train,y_train)\n",
        "y_pred_chi2=rf5.predict(X_test)\n",
        "print(classification_report(y_test,y_pred_chi2))"
      ],
      "metadata": {
        "id": "KQGIrR21VQVc",
        "colab": {
          "base_uri": "https://localhost:8080/"
        },
        "outputId": "1a255fde-1418-4fbe-f8fd-0b03b4a61fc8"
      },
      "execution_count": 61,
      "outputs": [
        {
          "output_type": "stream",
          "name": "stdout",
          "text": [
            "              precision    recall  f1-score   support\n",
            "\n",
            "           0       1.00      0.96      0.98        28\n",
            "           1       0.97      1.00      0.98        32\n",
            "\n",
            "    accuracy                           0.98        60\n",
            "   macro avg       0.98      0.98      0.98        60\n",
            "weighted avg       0.98      0.98      0.98        60\n",
            "\n"
          ]
        }
      ]
    },
    {
      "cell_type": "code",
      "source": [
        "print(ConfusionMatrixDisplay.from_predictions(y_test,y_pred_chi2))"
      ],
      "metadata": {
        "id": "cP_r4JNAXGYS",
        "colab": {
          "base_uri": "https://localhost:8080/",
          "height": 466
        },
        "outputId": "b1856384-18e6-43fb-a740-dc687f980f90"
      },
      "execution_count": 62,
      "outputs": [
        {
          "output_type": "stream",
          "name": "stdout",
          "text": [
            "<sklearn.metrics._plot.confusion_matrix.ConfusionMatrixDisplay object at 0x7f98050f1210>\n"
          ]
        },
        {
          "output_type": "display_data",
          "data": {
            "text/plain": [
              "<Figure size 640x480 with 2 Axes>"
            ],
            "image/png": "[encoded data removed]"
          },
          "metadata": {}
        }
      ]
    },
    {
      "cell_type": "code",
      "source": [
        "#FISHER'S SCORE\n",
        "ranks=fisher_score.fisher_score(X_sc1,y_os)\n",
        "feat_importance=pd.Series(ranks,df.columns[0:len(df.columns)-1])\n",
        "feat_importance.plot(kind='barh')\n",
        "plt.show()"
      ],
      "metadata": {
        "id": "KOn-0FiM4-V_",
        "colab": {
          "base_uri": "https://localhost:8080/",
          "height": 430
        },
        "outputId": "3fc4f527-38bb-4bbd-c720-4ae338286a7b"
      },
      "execution_count": 63,
      "outputs": [
        {
          "output_type": "display_data",
          "data": {
            "text/plain": [
              "<Figure size 640x480 with 1 Axes>"
            ],
            "image/png": "[encoded data removed]"
          },
          "metadata": {}
        }
      ]
    },
    {
      "cell_type": "markdown",
      "source": [
        "**CREATING A TABLE FOR DIFFERENT ALGORITHMS**"
      ],
      "metadata": {
        "id": "GhzoyInKm7eI"
      }
    },
    {
      "cell_type": "code",
      "source": [
        "dataset=pd.DataFrame({'without_oversampling':[90,88,92,93,93,90,93],'oversampling':[88,95,90,90,98,92,98],'hyper_parameter_tuning':[88,95,0,95,98,92,0]},\n",
        "   index=['KNeighborsClassifier','SupportVectorClassifier','NaiveBayesClassifier','DicisionTreeClassifier','RandomForestClassifier','AdaBoostClassifier','XGBoostClassifier'])\n",
        "dataset"
      ],
      "metadata": {
        "id": "Q7L5ZS8ab9kF",
        "colab": {
          "base_uri": "https://localhost:8080/",
          "height": 269
        },
        "outputId": "aab924be-dbbf-4f7f-bbd0-e2169f0388ad"
      },
      "execution_count": 64,
      "outputs": [
        {
          "output_type": "execute_result",
          "data": {
            "text/plain": [
              "                         without_oversampling  oversampling  \\\n",
              "KNeighborsClassifier                       90            88   \n",
              "SupportVectorClassifier                    88            95   \n",
              "NaiveBayesClassifier                       92            90   \n",
              "DicisionTreeClassifier                     93            90   \n",
              "RandomForestClassifier                     93            98   \n",
              "AdaBoostClassifier                         90            92   \n",
              "XGBoostClassifier                          93            98   \n",
              "\n",
              "                         hyper_parameter_tuning  \n",
              "KNeighborsClassifier                         88  \n",
              "SupportVectorClassifier                      95  \n",
              "NaiveBayesClassifier                          0  \n",
              "DicisionTreeClassifier                       95  \n",
              "RandomForestClassifier                       98  \n",
              "AdaBoostClassifier                           92  \n",
              "XGBoostClassifier                             0  "
            ],
            "text/html": [
              "\n",
              "\n",
              "  <div id=\"df-7e968aa8-9dba-463c-9887-12c496848802\">\n",
              "    <div class=\"colab-df-container\">\n",
              "      <div>\n",
              "<style scoped>\n",
              "    .dataframe tbody tr th:only-of-type {\n",
              "        vertical-align: middle;\n",
              "    }\n",
              "\n",
              "    .dataframe tbody tr th {\n",
              "        vertical-align: top;\n",
              "    }\n",
              "\n",
              "    .dataframe thead th {\n",
              "        text-align: right;\n",
              "    }\n",
              "</style>\n",
              "<table border=\"1\" class=\"dataframe\">\n",
              "  <thead>\n",
              "    <tr style=\"text-align: right;\">\n",
              "      <th></th>\n",
              "      <th>without_oversampling</th>\n",
              "      <th>oversampling</th>\n",
              "      <th>hyper_parameter_tuning</th>\n",
              "    </tr>\n",
              "  </thead>\n",
              "  <tbody>\n",
              "    <tr>\n",
              "      <th>KNeighborsClassifier</th>\n",
              "      <td>90</td>\n",
              "      <td>88</td>\n",
              "      <td>88</td>\n",
              "    </tr>\n",
              "    <tr>\n",
              "      <th>SupportVectorClassifier</th>\n",
              "      <td>88</td>\n",
              "      <td>95</td>\n",
              "      <td>95</td>\n",
              "    </tr>\n",
              "    <tr>\n",
              "      <th>NaiveBayesClassifier</th>\n",
              "      <td>92</td>\n",
              "      <td>90</td>\n",
              "      <td>0</td>\n",
              "    </tr>\n",
              "    <tr>\n",
              "      <th>DicisionTreeClassifier</th>\n",
              "      <td>93</td>\n",
              "      <td>90</td>\n",
              "      <td>95</td>\n",
              "    </tr>\n",
              "    <tr>\n",
              "      <th>RandomForestClassifier</th>\n",
              "      <td>93</td>\n",
              "      <td>98</td>\n",
              "      <td>98</td>\n",
              "    </tr>\n",
              "    <tr>\n",
              "      <th>AdaBoostClassifier</th>\n",
              "      <td>90</td>\n",
              "      <td>92</td>\n",
              "      <td>92</td>\n",
              "    </tr>\n",
              "    <tr>\n",
              "      <th>XGBoostClassifier</th>\n",
              "      <td>93</td>\n",
              "      <td>98</td>\n",
              "      <td>0</td>\n",
              "    </tr>\n",
              "  </tbody>\n",
              "</table>\n",
              "</div>\n",
              "      <button class=\"colab-df-convert\" onclick=\"convertToInteractive('df-7e968aa8-9dba-463c-9887-12c496848802')\"\n",
              "              title=\"Convert this dataframe to an interactive table.\"\n",
              "              style=\"display:none;\">\n",
              "\n",
              "  <svg xmlns=\"http://www.w3.org/2000/svg\" height=\"24px\"viewBox=\"0 0 24 24\"\n",
              "       width=\"24px\">\n",
              "    <path d=\"M0 0h24v24H0V0z\" fill=\"none\"/>\n",
              "    <path d=\"M18.56 5.44l.94 2.06.94-2.06 2.06-.94-2.06-.94-.94-2.06-.94 2.06-2.06.94zm-11 1L8.5 8.5l.94-2.06 2.06-.94-2.06-.94L8.5 2.5l-.94 2.06-2.06.94zm10 10l.94 2.06.94-2.06 2.06-.94-2.06-.94-.94-2.06-.94 2.06-2.06.94z\"/><path d=\"M17.41 7.96l-1.37-1.37c-.4-.4-.92-.59-1.43-.59-.52 0-1.04.2-1.43.59L10.3 9.45l-7.72 7.72c-.78.78-.78 2.05 0 2.83L4 21.41c.39.39.9.59 1.41.59.51 0 1.02-.2 1.41-.59l7.78-7.78 2.81-2.81c.8-.78.8-2.07 0-2.86zM5.41 20L4 18.59l7.72-7.72 1.47 1.35L5.41 20z\"/>\n",
              "  </svg>\n",
              "      </button>\n",
              "\n",
              "\n",
              "\n",
              "    <div id=\"df-c1b2ff49-e781-468f-8ce1-12ce4b7226ea\">\n",
              "      <button class=\"colab-df-quickchart\" onclick=\"quickchart('df-c1b2ff49-e781-468f-8ce1-12ce4b7226ea')\"\n",
              "              title=\"Suggest charts.\"\n",
              "              style=\"display:none;\">\n",
              "\n",
              "<svg xmlns=\"http://www.w3.org/2000/svg\" height=\"24px\"viewBox=\"0 0 24 24\"\n",
              "     width=\"24px\">\n",
              "    <g>\n",
              "        <path d=\"M19 3H5c-1.1 0-2 .9-2 2v14c0 1.1.9 2 2 2h14c1.1 0 2-.9 2-2V5c0-1.1-.9-2-2-2zM9 17H7v-7h2v7zm4 0h-2V7h2v10zm4 0h-2v-4h2v4z\"/>\n",
              "    </g>\n",
              "</svg>\n",
              "      </button>\n",
              "    </div>\n",
              "\n",
              "<style>\n",
              "  .colab-df-quickchart {\n",
              "    background-color: #E8F0FE;\n",
              "    border: none;\n",
              "    border-radius: 50%;\n",
              "    cursor: pointer;\n",
              "    display: none;\n",
              "    fill: #1967D2;\n",
              "    height: 32px;\n",
              "    padding: 0 0 0 0;\n",
              "    width: 32px;\n",
              "  }\n",
              "\n",
              "  .colab-df-quickchart:hover {\n",
              "    background-color: #E2EBFA;\n",
              "    box-shadow: 0px 1px 2px rgba(60, 64, 67, 0.3), 0px 1px 3px 1px rgba(60, 64, 67, 0.15);\n",
              "    fill: #174EA6;\n",
              "  }\n",
              "\n",
              "  [theme=dark] .colab-df-quickchart {\n",
              "    background-color: #3B4455;\n",
              "    fill: #D2E3FC;\n",
              "  }\n",
              "\n",
              "  [theme=dark] .colab-df-quickchart:hover {\n",
              "    background-color: #434B5C;\n",
              "    box-shadow: 0px 1px 3px 1px rgba(0, 0, 0, 0.15);\n",
              "    filter: drop-shadow(0px 1px 2px rgba(0, 0, 0, 0.3));\n",
              "    fill: #FFFFFF;\n",
              "  }\n",
              "</style>\n",
              "\n",
              "    <script>\n",
              "      async function quickchart(key) {\n",
              "        const containerElement = document.querySelector('#' + key);\n",
              "        const charts = await google.colab.kernel.invokeFunction(\n",
              "            'suggestCharts', [key], {});\n",
              "      }\n",
              "    </script>\n",
              "\n",
              "      <script>\n",
              "\n",
              "function displayQuickchartButton(domScope) {\n",
              "  let quickchartButtonEl =\n",
              "    domScope.querySelector('#df-c1b2ff49-e781-468f-8ce1-12ce4b7226ea button.colab-df-quickchart');\n",
              "  quickchartButtonEl.style.display =\n",
              "    google.colab.kernel.accessAllowed ? 'block' : 'none';\n",
              "}\n",
              "\n",
              "        displayQuickchartButton(document);\n",
              "      </script>\n",
              "      <style>\n",
              "    .colab-df-container {\n",
              "      display:flex;\n",
              "      flex-wrap:wrap;\n",
              "      gap: 12px;\n",
              "    }\n",
              "\n",
              "    .colab-df-convert {\n",
              "      background-color: #E8F0FE;\n",
              "      border: none;\n",
              "      border-radius: 50%;\n",
              "      cursor: pointer;\n",
              "      display: none;\n",
              "      fill: #1967D2;\n",
              "      height: 32px;\n",
              "      padding: 0 0 0 0;\n",
              "      width: 32px;\n",
              "    }\n",
              "\n",
              "    .colab-df-convert:hover {\n",
              "      background-color: #E2EBFA;\n",
              "      box-shadow: 0px 1px 2px rgba(60, 64, 67, 0.3), 0px 1px 3px 1px rgba(60, 64, 67, 0.15);\n",
              "      fill: #174EA6;\n",
              "    }\n",
              "\n",
              "    [theme=dark] .colab-df-convert {\n",
              "      background-color: #3B4455;\n",
              "      fill: #D2E3FC;\n",
              "    }\n",
              "\n",
              "    [theme=dark] .colab-df-convert:hover {\n",
              "      background-color: #434B5C;\n",
              "      box-shadow: 0px 1px 3px 1px rgba(0, 0, 0, 0.15);\n",
              "      filter: drop-shadow(0px 1px 2px rgba(0, 0, 0, 0.3));\n",
              "      fill: #FFFFFF;\n",
              "    }\n",
              "  </style>\n",
              "\n",
              "      <script>\n",
              "        const buttonEl =\n",
              "          document.querySelector('#df-7e968aa8-9dba-463c-9887-12c496848802 button.colab-df-convert');\n",
              "        buttonEl.style.display =\n",
              "          google.colab.kernel.accessAllowed ? 'block' : 'none';\n",
              "\n",
              "        async function convertToInteractive(key) {\n",
              "          const element = document.querySelector('#df-7e968aa8-9dba-463c-9887-12c496848802');\n",
              "          const dataTable =\n",
              "            await google.colab.kernel.invokeFunction('convertToInteractive',\n",
              "                                                     [key], {});\n",
              "          if (!dataTable) return;\n",
              "\n",
              "          const docLinkHtml = 'Like what you see? Visit the ' +\n",
              "            '<a target=\"_blank\" href=https://colab.research.google.com/notebooks/data_table.ipynb>data table notebook</a>'\n",
              "            + ' to learn more about interactive tables.';\n",
              "          element.innerHTML = '';\n",
              "          dataTable['output_type'] = 'display_data';\n",
              "          await google.colab.output.renderOutput(dataTable, element);\n",
              "          const docLink = document.createElement('div');\n",
              "          docLink.innerHTML = docLinkHtml;\n",
              "          element.appendChild(docLink);\n",
              "        }\n",
              "      </script>\n",
              "    </div>\n",
              "  </div>\n"
            ]
          },
          "metadata": {},
          "execution_count": 64
        }
      ]
    },
    {
      "cell_type": "markdown",
      "source": [
        "**PLOT THE GRAPH OF ALGORITHMS VS ACCURACY**"
      ],
      "metadata": {
        "id": "S_qV0i9Hnzua"
      }
    },
    {
      "cell_type": "code",
      "source": [
        "dataset.plot(kind='bar',figsize=(10,8))\n",
        "plt.xlabel('Algorithms')\n",
        "plt.ylabel('Accuracy')\n",
        "plt.title('ALGORITHMS VS ACCURACY')\n"
      ],
      "metadata": {
        "id": "29gz0uQUxi7S",
        "colab": {
          "base_uri": "https://localhost:8080/",
          "height": 885
        },
        "outputId": "3acfc360-2db1-48e5-b63e-2520a346d094"
      },
      "execution_count": 65,
      "outputs": [
        {
          "output_type": "execute_result",
          "data": {
            "text/plain": [
              "Text(0.5, 1.0, 'ALGORITHMS VS ACCURACY')"
            ]
          },
          "metadata": {},
          "execution_count": 65
        },
        {
          "output_type": "display_data",
          "data": {
            "text/plain": [
              "<Figure size 1000x800 with 1 Axes>"
            ],
            "image/png": "[encoded data removed]"
          },
          "metadata": {}
        }
      ]
    },
    {
      "cell_type": "markdown",
      "source": [
        "**CONCLUSION**: From the performance evaluation of different algorithms Random Forest Classification and XGBoost Classification have generated the model with higher accuracy after over sampling. After feature selection a model is created using Random Forest Classification which also gives higher accuracy."
      ],
      "metadata": {
        "id": "ImcQLSh3SNjp"
      }
    },
    {
      "cell_type": "markdown",
      "source": [
        "**SAVING THE MODEL**"
      ],
      "metadata": {
        "id": "IvP9-ZFF--i3"
      }
    },
    {
      "cell_type": "code",
      "source": [
        "import pickle"
      ],
      "metadata": {
        "id": "Cc7r7G1z--Py"
      },
      "execution_count": 66,
      "outputs": []
    },
    {
      "cell_type": "code",
      "source": [
        "pickle.dump(rf5,open('/content/spotify_model','wb'))\n",
        "pickle.dump(mm2,open('/content/spotify_scaler','wb'))"
      ],
      "metadata": {
        "id": "r3AeCe5X_Pv2"
      },
      "execution_count": 67,
      "outputs": []
    },
    {
      "cell_type": "code",
      "source": [
        "model=pickle.load(open('/content/spotify_model','rb'))\n",
        "scaler=pickle.load(open('/content/spotify_scaler','rb'))\n",
        "y_pred_new=model.predict(scaler.transform([[0.762000,-7.951000,0.306000,0.206000,0.000000,0.519000,151.329000,247178]]))\n",
        "if y_pred_new==1:\n",
        "  print('The Song is Liked')\n",
        "else:\n",
        "  print('The Song is Disliked')"
      ],
      "metadata": {
        "id": "5EZNiEoyJcL9",
        "colab": {
          "base_uri": "https://localhost:8080/"
        },
        "outputId": "5aa1518c-e495-4519-9b57-6289cc415dcf"
      },
      "execution_count": 68,
      "outputs": [
        {
          "output_type": "stream",
          "name": "stdout",
          "text": [
            "The Song is Liked\n"
          ]
        }
      ]
    }
  ]
}